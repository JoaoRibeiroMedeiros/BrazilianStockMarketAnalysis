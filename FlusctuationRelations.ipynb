{
  "nbformat": 4,
  "nbformat_minor": 0,
  "metadata": {
    "kernelspec": {
      "display_name": "Python 3",
      "language": "python",
      "name": "python3"
    },
    "language_info": {
      "codemirror_mode": {
        "name": "ipython",
        "version": 3
      },
      "file_extension": ".py",
      "mimetype": "text/x-python",
      "name": "python",
      "nbconvert_exporter": "python",
      "pygments_lexer": "ipython3",
      "version": "3.6.8"
    },
    "colab": {
      "name": "RelacaodeFlutuacao.ipynb",
      "provenance": [],
      "collapsed_sections": [
        "SNNiE1aFo-aF"
      ]
    }
  },
  "cells": [
    {
      "cell_type": "code",
      "metadata": {
        "id": "wO44ZJ5MdOR9"
      },
      "source": [
        "import pandas as pd\n",
        "import matplotlib.pyplot as plt\n",
        "import numpy as np\n",
        "from math import log\n",
        "from math import pi"
      ],
      "execution_count": null,
      "outputs": []
    },
    {
      "cell_type": "code",
      "metadata": {
        "id": "wdIpivA7pPnR",
        "colab": {
          "resources": {
            "http://localhost:8080/nbextensions/google.colab/files.js": {
              "data": "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",
              "ok": true,
              "headers": [
                [
                  "content-type",
                  "application/javascript"
                ]
              ],
              "status": 200,
              "status_text": ""
            }
          },
          "base_uri": "https://localhost:8080/",
          "height": 72
        },
        "outputId": "13639a4d-e2fa-4a66-e7e2-b741ade4939a"
      },
      "source": [
        "from google.colab import files\n",
        "uploaded = files.upload()\n"
      ],
      "execution_count": null,
      "outputs": [
        {
          "output_type": "display_data",
          "data": {
            "text/html": [
              "\n",
              "     <input type=\"file\" id=\"files-c3b4a420-ef72-44f2-b4de-33c201d28da2\" name=\"files[]\" multiple disabled\n",
              "        style=\"border:none\" />\n",
              "     <output id=\"result-c3b4a420-ef72-44f2-b4de-33c201d28da2\">\n",
              "      Upload widget is only available when the cell has been executed in the\n",
              "      current browser session. Please rerun this cell to enable.\n",
              "      </output>\n",
              "      <script src=\"/nbextensions/google.colab/files.js\"></script> "
            ],
            "text/plain": [
              "<IPython.core.display.HTML object>"
            ]
          },
          "metadata": {
            "tags": []
          }
        },
        {
          "output_type": "stream",
          "text": [
            "Saving IBOV_201602010800_201901091137.csv to IBOV_201602010800_201901091137.csv\n"
          ],
          "name": "stdout"
        }
      ]
    },
    {
      "cell_type": "markdown",
      "metadata": {
        "id": "UHtH4QOUovtk"
      },
      "source": [
        "#Fluctuation Relation for Trading Volume in Brazilian Index IBOV"
      ]
    },
    {
      "cell_type": "markdown",
      "metadata": {
        "id": "zAuo0HRAeRvK"
      },
      "source": [
        "We shall investigate some properties of fluctuation relations when applied to trading volumes in the brazilian stock market. "
      ]
    },
    {
      "cell_type": "markdown",
      "metadata": {
        "id": "qvXbnqt5ZncN"
      },
      "source": [
        "##Fluctuation Relation (overview)\n",
        "\n",
        "The concept of a fluctuation relation arises in physics in the context of measuring equilibrium or deviation from it.\n",
        "\n",
        "The second law of thermodynamics asserts that, in average, entropy must be produced ($\\Delta S > 0$) by natural processes. \n",
        "\n",
        "Nevertheless, in certain conditions, one may observe the consumption of entropy ($\\Delta S < 0$) in a microscopic framework (that ignores the big picture), in out of equilibrium systems or in turbulent regimes.\n",
        "\n",
        "To understand the proportion with which $\\Delta S$ is positive or negative it is common to use the fluctuation theorem (https://en.wikipedia.org/wiki/Fluctuation_theorem), which states the second law in a more precise manner:\n",
        "\n",
        "$\\frac{P(\\Sigma_t = \\Delta S)}{P(\\Sigma_t =  - \\Delta S)} = exp(t \\Delta S )$\n",
        "\n",
        "This result is valuable, since it turns out to be valid even far from equilibrium.\n",
        "\n",
        "The idea of the following work is to investigate the validity of analogous relations in the Brazilian Stock Market, starting by trade volumes.\n",
        "\n",
        "We shall investigate data retrieved from brazilian Bovespa stock market (http://www.b3.com.br/pt_br/)\n"
      ]
    },
    {
      "cell_type": "markdown",
      "metadata": {
        "id": "NNRUmgwirA7h"
      },
      "source": [
        "##Loading MT5 data"
      ]
    },
    {
      "cell_type": "markdown",
      "metadata": {
        "id": "iPanVEzvrHI2"
      },
      "source": [
        "In the cell below we load data between February 2016 and January 2019, obtained using metatrader 5."
      ]
    },
    {
      "cell_type": "code",
      "metadata": {
        "id": "RkOIYrmgdOSL"
      },
      "source": [
        "\n",
        "df = pd.read_csv(\"IBOV_201602010800_201901091137.csv\",sep=\"\\t\",encoding='utf8')\n",
        "\n",
        "df0 = df[~ df['<LAST>'].isna()]\n",
        "\n",
        "df1 = df0.drop(['<BID>','<ASK>'], axis=1)\n",
        "\n",
        "df2 = df1.reset_index()\n",
        "\n",
        "df3 = df2.drop(['index'], axis=1)\n",
        "\n",
        "df3 = df3[ df3['<LAST>']!=0]"
      ],
      "execution_count": null,
      "outputs": []
    },
    {
      "cell_type": "code",
      "metadata": {
        "id": "3NSF1GXxYHi9",
        "colab": {
          "base_uri": "https://localhost:8080/",
          "height": 204
        },
        "outputId": "29aa0547-a2df-4f0f-d955-d0e89642ba74"
      },
      "source": [
        "df3.head()"
      ],
      "execution_count": null,
      "outputs": [
        {
          "output_type": "execute_result",
          "data": {
            "text/html": [
              "<div>\n",
              "<style scoped>\n",
              "    .dataframe tbody tr th:only-of-type {\n",
              "        vertical-align: middle;\n",
              "    }\n",
              "\n",
              "    .dataframe tbody tr th {\n",
              "        vertical-align: top;\n",
              "    }\n",
              "\n",
              "    .dataframe thead th {\n",
              "        text-align: right;\n",
              "    }\n",
              "</style>\n",
              "<table border=\"1\" class=\"dataframe\">\n",
              "  <thead>\n",
              "    <tr style=\"text-align: right;\">\n",
              "      <th></th>\n",
              "      <th>&lt;DATE&gt;</th>\n",
              "      <th>&lt;TIME&gt;</th>\n",
              "      <th>&lt;LAST&gt;</th>\n",
              "      <th>&lt;VOLUME&gt;</th>\n",
              "      <th>tempofiltrado</th>\n",
              "    </tr>\n",
              "  </thead>\n",
              "  <tbody>\n",
              "    <tr>\n",
              "      <th>1</th>\n",
              "      <td>2016.02.01</td>\n",
              "      <td>10:01:00.000</td>\n",
              "      <td>40397.0</td>\n",
              "      <td>16840949.0</td>\n",
              "      <td>10:01</td>\n",
              "    </tr>\n",
              "    <tr>\n",
              "      <th>2</th>\n",
              "      <td>2016.02.01</td>\n",
              "      <td>10:01:30.000</td>\n",
              "      <td>40381.0</td>\n",
              "      <td>256019.0</td>\n",
              "      <td>10:01</td>\n",
              "    </tr>\n",
              "    <tr>\n",
              "      <th>3</th>\n",
              "      <td>2016.02.01</td>\n",
              "      <td>10:02:00.000</td>\n",
              "      <td>40384.0</td>\n",
              "      <td>390807.0</td>\n",
              "      <td>10:02</td>\n",
              "    </tr>\n",
              "    <tr>\n",
              "      <th>4</th>\n",
              "      <td>2016.02.01</td>\n",
              "      <td>10:02:30.000</td>\n",
              "      <td>40361.0</td>\n",
              "      <td>316598.0</td>\n",
              "      <td>10:02</td>\n",
              "    </tr>\n",
              "    <tr>\n",
              "      <th>5</th>\n",
              "      <td>2016.02.01</td>\n",
              "      <td>10:03:00.000</td>\n",
              "      <td>40360.0</td>\n",
              "      <td>3651113.0</td>\n",
              "      <td>10:03</td>\n",
              "    </tr>\n",
              "  </tbody>\n",
              "</table>\n",
              "</div>"
            ],
            "text/plain": [
              "       <DATE>        <TIME>   <LAST>    <VOLUME> tempofiltrado\n",
              "1  2016.02.01  10:01:00.000  40397.0  16840949.0         10:01\n",
              "2  2016.02.01  10:01:30.000  40381.0    256019.0         10:01\n",
              "3  2016.02.01  10:02:00.000  40384.0    390807.0         10:02\n",
              "4  2016.02.01  10:02:30.000  40361.0    316598.0         10:02\n",
              "5  2016.02.01  10:03:00.000  40360.0   3651113.0         10:03"
            ]
          },
          "metadata": {
            "tags": []
          },
          "execution_count": 18
        }
      ]
    },
    {
      "cell_type": "markdown",
      "metadata": {
        "id": "3JlySCKxe1K2"
      },
      "source": [
        "The function below makes sure we ignore trades that occur beyond 18:28 PM, since there are few instances of such trades which results in insufficient statistics (note that auction takes place between  18:00-18:27 PM)"
      ]
    },
    {
      "cell_type": "code",
      "metadata": {
        "id": "V9QxQ_wBdOSQ"
      },
      "source": [
        "def filtratempo(df3):\n",
        "    tempofiltrado=[]\n",
        "    for i in df3.index:\n",
        "        tempofiltrado.append(df3['<TIME>'][i][:-7])\n",
        "    df3['tempofiltrado'] = tempofiltrado\n",
        "    return df3\n",
        "\n",
        "df3=filtratempo(df3);"
      ],
      "execution_count": null,
      "outputs": []
    },
    {
      "cell_type": "code",
      "metadata": {
        "id": "AauduVBjdOSe"
      },
      "source": [
        "indices=[]\n",
        "\n",
        "for i in df3.index:\n",
        "    if(int(df3['tempofiltrado'][i][0]+df3['tempofiltrado'][i][1]+df3['tempofiltrado'][i][3]+df3['tempofiltrado'][i][4])>1826):\n",
        "        indices.append(i)"
      ],
      "execution_count": null,
      "outputs": []
    },
    {
      "cell_type": "code",
      "metadata": {
        "id": "z7foOFD_dOSk"
      },
      "source": [
        "for i in indices:\n",
        "    df3=df3.drop(i)\n",
        "\n",
        "#'18:27', '18:28', '18:31', '18:32',\n",
        "#       '18:33', '18:34', '18:37', '18:50'"
      ],
      "execution_count": null,
      "outputs": []
    },
    {
      "cell_type": "markdown",
      "metadata": {
        "id": "SNNiE1aFo-aF"
      },
      "source": [
        "##list of all trade times"
      ]
    },
    {
      "cell_type": "code",
      "metadata": {
        "id": "z71sBqaLdOSo",
        "colab": {
          "base_uri": "https://localhost:8080/",
          "height": 1000
        },
        "outputId": "35657829-d2a2-4d2b-989a-24f5d73e9ab3"
      },
      "source": [
        "np.unique(df3['tempofiltrado'])[0:]"
      ],
      "execution_count": null,
      "outputs": [
        {
          "output_type": "execute_result",
          "data": {
            "text/plain": [
              "array(['10:00', '10:01', '10:02', '10:03', '10:04', '10:05', '10:06',\n",
              "       '10:07', '10:08', '10:09', '10:10', '10:11', '10:12', '10:13',\n",
              "       '10:14', '10:15', '10:16', '10:17', '10:18', '10:19', '10:20',\n",
              "       '10:21', '10:22', '10:23', '10:24', '10:25', '10:26', '10:27',\n",
              "       '10:28', '10:29', '10:30', '10:31', '10:32', '10:33', '10:34',\n",
              "       '10:35', '10:36', '10:37', '10:38', '10:39', '10:40', '10:41',\n",
              "       '10:42', '10:43', '10:44', '10:45', '10:46', '10:47', '10:48',\n",
              "       '10:49', '10:50', '10:51', '10:52', '10:53', '10:54', '10:55',\n",
              "       '10:56', '10:57', '10:58', '10:59', '11:00', '11:01', '11:02',\n",
              "       '11:03', '11:04', '11:05', '11:06', '11:07', '11:08', '11:09',\n",
              "       '11:10', '11:11', '11:12', '11:13', '11:14', '11:15', '11:16',\n",
              "       '11:17', '11:18', '11:19', '11:20', '11:21', '11:22', '11:23',\n",
              "       '11:24', '11:25', '11:26', '11:27', '11:28', '11:29', '11:30',\n",
              "       '11:31', '11:32', '11:33', '11:34', '11:35', '11:36', '11:37',\n",
              "       '11:38', '11:39', '11:40', '11:41', '11:42', '11:43', '11:44',\n",
              "       '11:45', '11:46', '11:47', '11:48', '11:49', '11:50', '11:51',\n",
              "       '11:52', '11:53', '11:54', '11:55', '11:56', '11:57', '11:58',\n",
              "       '11:59', '12:00', '12:01', '12:02', '12:03', '12:04', '12:05',\n",
              "       '12:06', '12:07', '12:08', '12:09', '12:10', '12:11', '12:12',\n",
              "       '12:13', '12:14', '12:15', '12:16', '12:17', '12:18', '12:19',\n",
              "       '12:20', '12:21', '12:22', '12:23', '12:24', '12:25', '12:26',\n",
              "       '12:27', '12:28', '12:29', '12:30', '12:31', '12:32', '12:33',\n",
              "       '12:34', '12:35', '12:36', '12:37', '12:38', '12:39', '12:40',\n",
              "       '12:41', '12:42', '12:43', '12:44', '12:45', '12:46', '12:47',\n",
              "       '12:48', '12:49', '12:50', '12:51', '12:52', '12:53', '12:54',\n",
              "       '12:55', '12:56', '12:57', '12:58', '12:59', '13:00', '13:01',\n",
              "       '13:02', '13:03', '13:04', '13:05', '13:06', '13:07', '13:08',\n",
              "       '13:09', '13:10', '13:11', '13:12', '13:13', '13:14', '13:15',\n",
              "       '13:16', '13:17', '13:18', '13:19', '13:20', '13:21', '13:22',\n",
              "       '13:23', '13:24', '13:25', '13:26', '13:27', '13:28', '13:29',\n",
              "       '13:30', '13:31', '13:32', '13:33', '13:34', '13:35', '13:36',\n",
              "       '13:37', '13:38', '13:39', '13:40', '13:41', '13:42', '13:43',\n",
              "       '13:44', '13:45', '13:46', '13:47', '13:48', '13:49', '13:50',\n",
              "       '13:51', '13:52', '13:53', '13:54', '13:55', '13:56', '13:57',\n",
              "       '13:58', '13:59', '14:00', '14:01', '14:02', '14:03', '14:04',\n",
              "       '14:05', '14:06', '14:07', '14:08', '14:09', '14:10', '14:11',\n",
              "       '14:12', '14:13', '14:14', '14:15', '14:16', '14:17', '14:18',\n",
              "       '14:19', '14:20', '14:21', '14:22', '14:23', '14:24', '14:25',\n",
              "       '14:26', '14:27', '14:28', '14:29', '14:30', '14:31', '14:32',\n",
              "       '14:33', '14:34', '14:35', '14:36', '14:37', '14:38', '14:39',\n",
              "       '14:40', '14:41', '14:42', '14:43', '14:44', '14:45', '14:46',\n",
              "       '14:47', '14:48', '14:49', '14:50', '14:51', '14:52', '14:53',\n",
              "       '14:54', '14:55', '14:56', '14:57', '14:58', '14:59', '15:00',\n",
              "       '15:01', '15:02', '15:03', '15:04', '15:05', '15:06', '15:07',\n",
              "       '15:08', '15:09', '15:10', '15:11', '15:12', '15:13', '15:14',\n",
              "       '15:15', '15:16', '15:17', '15:18', '15:19', '15:20', '15:21',\n",
              "       '15:22', '15:23', '15:24', '15:25', '15:26', '15:27', '15:28',\n",
              "       '15:29', '15:30', '15:31', '15:32', '15:33', '15:34', '15:35',\n",
              "       '15:36', '15:37', '15:38', '15:39', '15:40', '15:41', '15:42',\n",
              "       '15:43', '15:44', '15:45', '15:46', '15:47', '15:48', '15:49',\n",
              "       '15:50', '15:51', '15:52', '15:53', '15:54', '15:55', '15:56',\n",
              "       '15:57', '15:58', '15:59', '16:00', '16:01', '16:02', '16:03',\n",
              "       '16:04', '16:05', '16:06', '16:07', '16:08', '16:09', '16:10',\n",
              "       '16:11', '16:12', '16:13', '16:14', '16:15', '16:16', '16:17',\n",
              "       '16:18', '16:19', '16:20', '16:21', '16:22', '16:23', '16:24',\n",
              "       '16:25', '16:26', '16:27', '16:28', '16:29', '16:30', '16:31',\n",
              "       '16:32', '16:33', '16:34', '16:35', '16:36', '16:37', '16:38',\n",
              "       '16:39', '16:40', '16:41', '16:42', '16:43', '16:44', '16:45',\n",
              "       '16:46', '16:47', '16:48', '16:49', '16:50', '16:51', '16:52',\n",
              "       '16:53', '16:54', '16:55', '16:56', '16:57', '16:58', '16:59',\n",
              "       '17:00', '17:01', '17:02', '17:03', '17:04', '17:05', '17:06',\n",
              "       '17:07', '17:08', '17:09', '17:10', '17:11', '17:12', '17:13',\n",
              "       '17:14', '17:15', '17:16', '17:17', '17:18', '17:19', '17:20',\n",
              "       '17:21', '17:22', '17:23', '17:24', '17:25', '17:26', '17:27',\n",
              "       '17:28', '17:29', '17:30', '17:31', '17:32', '17:33', '17:34',\n",
              "       '17:35', '17:36', '17:37', '17:38', '17:39', '17:40', '17:41',\n",
              "       '17:42', '17:43', '17:44', '17:45', '17:46', '17:47', '17:48',\n",
              "       '17:49', '17:50', '17:51', '17:52', '17:53', '17:54', '17:55',\n",
              "       '17:56', '17:57', '17:58', '17:59', '18:00', '18:01', '18:02',\n",
              "       '18:03', '18:04', '18:05', '18:06', '18:07', '18:08', '18:09',\n",
              "       '18:10', '18:11', '18:12', '18:13', '18:14', '18:15', '18:16',\n",
              "       '18:17', '18:18', '18:19', '18:20', '18:21', '18:22', '18:23',\n",
              "       '18:24', '18:25', '18:26'], dtype=object)"
            ]
          },
          "metadata": {
            "tags": []
          },
          "execution_count": 15
        }
      ]
    },
    {
      "cell_type": "code",
      "metadata": {
        "id": "s_voENAIdOSx",
        "outputId": "9506b62c-0c09-46b4-b45a-ed0452735c94"
      },
      "source": [
        "len(desvios)"
      ],
      "execution_count": null,
      "outputs": [
        {
          "output_type": "execute_result",
          "data": {
            "text/plain": [
              "515"
            ]
          },
          "metadata": {
            "tags": []
          },
          "execution_count": 230
        }
      ]
    },
    {
      "cell_type": "markdown",
      "metadata": {
        "id": "MT6uCy0zpEWU"
      },
      "source": [
        "#Filtering Intraday Volatility"
      ]
    },
    {
      "cell_type": "markdown",
      "metadata": {
        "id": "afKQQBfcp7iJ"
      },
      "source": [
        "We are interested in a normalizing the price by dividing each price value by the correspondent volatility (standard deviation) associated with the time when the trade takes place, so called intraday volatility, following the approach presented in [1]"
      ]
    },
    {
      "cell_type": "code",
      "metadata": {
        "id": "QX9FWgGWdOS2",
        "colab": {
          "base_uri": "https://localhost:8080/",
          "height": 34
        },
        "outputId": "04a83397-4769-4f5a-f02b-cee7f3d7a591"
      },
      "source": [
        "desvio = np.std(df3[df3['tempofiltrado']=='10:01:00']['<LAST>'])\n",
        "precofiltrado = df3['<LAST>'][df3['tempofiltrado']=='10:01:00']/desvio\n",
        "type(precofiltrado)"
      ],
      "execution_count": null,
      "outputs": [
        {
          "output_type": "execute_result",
          "data": {
            "text/plain": [
              "pandas.core.series.Series"
            ]
          },
          "metadata": {
            "tags": []
          },
          "execution_count": 9
        }
      ]
    },
    {
      "cell_type": "code",
      "metadata": {
        "id": "C2JHp9GwdOS6"
      },
      "source": [
        "def volatilidadesdiarias(df3):\n",
        "\n",
        "    desvios = []\n",
        "    final= np.empty(0)\n",
        "    desvio = np.std(df3[df3['tempofiltrado']=='10:00']['<LAST>'])\n",
        "    precofiltrado = df3['<LAST>'][df3['tempofiltrado']=='10:00']/desvio\n",
        "    desvios.append(desvio)\n",
        "\n",
        "    for i in np.unique(df3['tempofiltrado'])[1:]:\n",
        "        desvio = np.std(df3[df3['tempofiltrado']==i]['<LAST>'])\n",
        "        desvios.append(desvio)\n",
        "        precofiltrado = pd.concat([precofiltrado,df3['<LAST>'][df3['tempofiltrado']==i]/desvio])\n",
        "    \n",
        "    precofiltrado = precofiltrado.sort_index()\n",
        "\n",
        "    return precofiltrado, desvios"
      ],
      "execution_count": null,
      "outputs": []
    },
    {
      "cell_type": "code",
      "metadata": {
        "id": "5a5rc6XXdOS-"
      },
      "source": [
        "final, desvios = volatilidadesdiarias(df3)"
      ],
      "execution_count": null,
      "outputs": []
    },
    {
      "cell_type": "code",
      "metadata": {
        "id": "cyp90br6dOTD",
        "outputId": "459bfe27-ce5e-49a9-f29b-a10377fc55ce"
      },
      "source": [
        "np.unique(df3['tempofiltrado'])[2::10]"
      ],
      "execution_count": null,
      "outputs": [
        {
          "output_type": "execute_result",
          "data": {
            "text/plain": [
              "array(['10:02', '10:12', '10:22', '10:32', '10:42', '10:52', '11:02',\n",
              "       '11:12', '11:22', '11:32', '11:42', '11:52', '12:02', '12:12',\n",
              "       '12:22', '12:32', '12:42', '12:52', '13:02', '13:12', '13:22',\n",
              "       '13:32', '13:42', '13:52', '14:02', '14:12', '14:22', '14:32',\n",
              "       '14:42', '14:52', '15:02', '15:12', '15:22', '15:32', '15:42',\n",
              "       '15:52', '16:02', '16:12', '16:22', '16:32', '16:42', '16:52',\n",
              "       '17:02', '17:12', '17:22', '17:32', '17:42', '17:52', '18:02',\n",
              "       '18:12', '18:22', '18:34'], dtype=object)"
            ]
          },
          "metadata": {
            "tags": []
          },
          "execution_count": 26
        }
      ]
    },
    {
      "cell_type": "markdown",
      "metadata": {
        "id": "f3N1WSRUVmER"
      },
      "source": [
        "Notice the following regions in the plot below:\n",
        "\n",
        "\n",
        "*  10:00 to 17:00 - daytime trading\n",
        "* 17:00 to 18:00 - market approaches closing time, volatility spikes\n",
        "*   18:00 to 18:30 -  the auction, where volatility takes many different values, reaching its maximum around 18:22"
      ]
    },
    {
      "cell_type": "code",
      "metadata": {
        "id": "vVqBsmCOdOTH",
        "colab": {
          "base_uri": "https://localhost:8080/",
          "height": 635
        },
        "outputId": "f5aa1332-c9c6-42c3-da3b-3ab85dde88bc"
      },
      "source": [
        "\n",
        "plt.figure(figsize=(15,10))\n",
        "plt.plot(np.unique(df3['tempofiltrado']),desvios, color= 'Red')\n",
        "plt.xticks(np.unique(df3['tempofiltrado'])[2::10],rotation=90,fontsize=10)\n",
        "plt.ylabel('Volatility in IBOV points', fontsize = 17)\n",
        "plt.title('Trade times x IBOV index Volatility', fontsize = 25)\n",
        "plt.show()"
      ],
      "execution_count": null,
      "outputs": [
        {
          "output_type": "display_data",
          "data": {
            "image/png": "[encoded data removed]",
            "text/plain": [
              "<Figure size 1080x720 with 1 Axes>"
            ]
          },
          "metadata": {
            "tags": [],
            "needs_background": "light"
          }
        }
      ]
    },
    {
      "cell_type": "markdown",
      "metadata": {
        "id": "UjsNZhR-YfCn"
      },
      "source": [
        "##Finding index values for price spikes and falls "
      ]
    },
    {
      "cell_type": "code",
      "metadata": {
        "id": "cC87sE9edOTS"
      },
      "source": [
        "def encontraindices(df3):\n",
        "    indicesmais = []\n",
        "    indicesmenos = []\n",
        "    for i in range(0,len(df3.index)-4):\n",
        "        if(df3['<LAST>'][df3.index[i+1]]>df3['<LAST>'][df3.index[i]]):\n",
        "            indicesmais.append(i+1)\n",
        "        elif(df3['<LAST>'][df3.index[i+1]]<df3['<LAST>'][df3.index[i]]):\n",
        "            indicesmenos.append(i+1)\n",
        "    return indicesmais, indicesmenos\n",
        "\n",
        "indicesmais, indicesmenos = encontraindices(df3)"
      ],
      "execution_count": null,
      "outputs": []
    },
    {
      "cell_type": "markdown",
      "metadata": {
        "id": "5iKIZnLPYpVC"
      },
      "source": [
        "##Finding trade volumes for price spikes and falls "
      ]
    },
    {
      "cell_type": "code",
      "metadata": {
        "id": "hRObkK7wdOTW"
      },
      "source": [
        "def volumes(df3, indicesmais, indicesmenos):\n",
        "    volumesmais = []\n",
        "    volumesmenos = []\n",
        "    for i in indicesmais:\n",
        "        volumesmais.append(df3['<VOLUME>'][df3.index[i]])\n",
        "    for i in indicesmenos:\n",
        "        volumesmenos.append(df3['<VOLUME>'][df3.index[i]])\n",
        "    return volumesmais, volumesmenos\n",
        "\n",
        "volumesmais, volumesmenos = volumes(df3, indicesmais, indicesmenos)"
      ],
      "execution_count": null,
      "outputs": []
    },
    {
      "cell_type": "markdown",
      "metadata": {
        "id": "-yIawbLkYwAR"
      },
      "source": [
        "##Finding price variation for price spikes and falls "
      ]
    },
    {
      "cell_type": "code",
      "metadata": {
        "id": "SzlniGqcdOTf"
      },
      "source": [
        "def variacoes(df3, indicesmais, indicesmenos):\n",
        "    variacoesmais = []\n",
        "    variacoesmenos = []\n",
        "    for i in indicesmais:\n",
        "        #print(i)\n",
        "        variacoesmais.append(df3['<LAST>'][df3.index[i]]-df3['<LAST>'][df3.index[i-1]])\n",
        "    for i in indicesmenos:\n",
        "        variacoesmenos.append(df3['<LAST>'][df3.index[i]]-df3['<LAST>'][df3.index[i-1]])\n",
        "    return variacoesmais, variacoesmenos\n",
        "\n",
        "variacoesmais, variacoesmenos = variacoes(df3,indicesmais, indicesmenos)"
      ],
      "execution_count": null,
      "outputs": []
    },
    {
      "cell_type": "code",
      "metadata": {
        "id": "mqMuN8bNdOTm"
      },
      "source": [
        "#def flutuacaoV(volumesmais,volumesmenos):\n",
        "#histogramamais = np.histogram(volumesmais)\n",
        "#histogramamenos = np.histogram(volumesmenos)\n",
        "\n"
      ],
      "execution_count": null,
      "outputs": []
    },
    {
      "cell_type": "code",
      "metadata": {
        "id": "6nSilv4ldOTq"
      },
      "source": [
        "#def flutuacaoV(volumesmais,volumesmenos):\n",
        "histogramamais = np.histogram(volumesmais, bins = np.logspace(np.log10(100000),np.log10(10000000)) )\n",
        "histogramamenos = np.histogram(volumesmenos , np.logspace(np.log10(100000),    np.log10(10000000)))\n",
        "\n"
      ],
      "execution_count": null,
      "outputs": []
    },
    {
      "cell_type": "code",
      "metadata": {
        "id": "vpacOKGcdOTu",
        "outputId": "c2a6f4b3-53ac-423e-c176-1ca9c3a21e28"
      },
      "source": [
        "histogramamais"
      ],
      "execution_count": null,
      "outputs": [
        {
          "output_type": "execute_result",
          "data": {
            "text/plain": [
              "(array([    8,     6,     9,    12,     8,    29,    66,   114,   210,\n",
              "          442,  1138,  2827,  6272, 12331, 20898, 28792, 36133, 39732,\n",
              "        38719, 33653, 26384, 18689, 11822,  7015,  3760,  1996,  1240,\n",
              "          751,   507,   554,   326,   246,   213,   126,   129,    84,\n",
              "          128,    54,    62,   112,    37,    30,    46,    31,    11,\n",
              "           17,    26,    11,    13]),\n",
              " array([1.00000000e+04, 1.26485522e+04, 1.59985872e+04, 2.02358965e+04,\n",
              "        2.55954792e+04, 3.23745754e+04, 4.09491506e+04, 5.17947468e+04,\n",
              "        6.55128557e+04, 8.28642773e+04, 1.04811313e+05, 1.32571137e+05,\n",
              "        1.67683294e+05, 2.12095089e+05, 2.68269580e+05, 3.39322177e+05,\n",
              "        4.29193426e+05, 5.42867544e+05, 6.86648845e+05, 8.68511374e+05,\n",
              "        1.09854114e+06, 1.38949549e+06, 1.75751062e+06, 2.22299648e+06,\n",
              "        2.81176870e+06, 3.55648031e+06, 4.49843267e+06, 5.68986603e+06,\n",
              "        7.19685673e+06, 9.10298178e+06, 1.15139540e+07, 1.45634848e+07,\n",
              "        1.84206997e+07, 2.32995181e+07, 2.94705170e+07, 3.72759372e+07,\n",
              "        4.71486636e+07, 5.96362332e+07, 7.54312006e+07, 9.54095476e+07,\n",
              "        1.20679264e+08, 1.52641797e+08, 1.93069773e+08, 2.44205309e+08,\n",
              "        3.08884360e+08, 3.90693994e+08, 4.94171336e+08, 6.25055193e+08,\n",
              "        7.90604321e+08, 1.00000000e+09]))"
            ]
          },
          "metadata": {
            "tags": []
          },
          "execution_count": 161
        }
      ]
    },
    {
      "cell_type": "code",
      "metadata": {
        "id": "Weudmr7jdOTz",
        "colab": {
          "base_uri": "https://localhost:8080/",
          "height": 341
        },
        "outputId": "cb2b5a79-e307-4db8-a483-b8df88e7e613"
      },
      "source": [
        "\n",
        "plt.figure(figsize=(7,5))\n",
        "plt.plot(histogramamais[1][0:(len(histogramamais[1])-1)],histogramamais[0])\n",
        "plt.grid(True)\n",
        "plt.semilogx()\n",
        "#plt.title(\"histograma de volumes onde há crescimento de preço $p_{+}(x)$\")\n",
        "plt.title(\"Histogram of trade volumes in price spikes $p_{+}(x)$\")\n",
        "plt.show()"
      ],
      "execution_count": null,
      "outputs": [
        {
          "output_type": "display_data",
          "data": {
            "image/png": "[encoded data removed]",
            "text/plain": [
              "<Figure size 504x360 with 1 Axes>"
            ]
          },
          "metadata": {
            "tags": [],
            "needs_background": "light"
          }
        }
      ]
    },
    {
      "cell_type": "code",
      "metadata": {
        "id": "ZKv2Tm1KdOT3",
        "colab": {
          "base_uri": "https://localhost:8080/",
          "height": 287
        },
        "outputId": "c0d9d091-fcca-4d44-9e7d-e4d238c562a9"
      },
      "source": [
        "plt.plot(histogramamenos[1][0:(len(histogramamenos[1])-1)],histogramamenos[0])\n",
        "plt.grid(True)\n",
        "plt.semilogx()\n",
        "#plt.title(\"histograma de volumes onde há queda de preço $p_{-}(x)$\")\n",
        "plt.title(\"histogram of trade volumes in price falls $p_{+}(x)$\")\n",
        "plt.show()"
      ],
      "execution_count": null,
      "outputs": [
        {
          "output_type": "display_data",
          "data": {
            "image/png": "[encoded data removed]",
            "text/plain": [
              "<Figure size 432x288 with 1 Axes>"
            ]
          },
          "metadata": {
            "tags": [],
            "needs_background": "light"
          }
        }
      ]
    },
    {
      "cell_type": "code",
      "metadata": {
        "id": "j766cjOtdOT7",
        "colab": {
          "base_uri": "https://localhost:8080/",
          "height": 187
        },
        "outputId": "2d7380f6-a3eb-40aa-ccc7-83e9f8790c3e"
      },
      "source": [
        "(histogramamais[0]/histogramamenos[0])"
      ],
      "execution_count": null,
      "outputs": [
        {
          "output_type": "execute_result",
          "data": {
            "text/plain": [
              "array([1.14229249, 1.21183801, 1.03478261, 1.0323741 , 1.10857664,\n",
              "       0.99224806, 0.96304254, 0.99776   , 0.9918619 , 0.97485347,\n",
              "       1.01895808, 1.00517611, 1.01120239, 0.96753731, 0.98863259,\n",
              "       1.0080224 , 0.99152424, 1.00992275, 1.01330078, 1.01556718,\n",
              "       1.01207943, 0.98867707, 1.01931531, 1.00049491, 1.00704706,\n",
              "       0.99776157, 1.00389033, 1.00808709, 0.98597967, 0.96761747,\n",
              "       0.9933732 , 0.96453339, 0.98080194, 0.98204668, 0.99657665,\n",
              "       0.92988084, 0.93645084, 0.97713415, 1.00983607, 1.00656168,\n",
              "       0.96935484, 1.04384134, 0.98886414, 0.90502793, 0.93650794,\n",
              "       1.02155172, 1.07106599, 1.36428571, 1.01219512])"
            ]
          },
          "metadata": {
            "tags": []
          },
          "execution_count": 31
        }
      ]
    },
    {
      "cell_type": "code",
      "metadata": {
        "id": "4QPqZuszdOUD",
        "colab": {
          "base_uri": "https://localhost:8080/",
          "height": 287
        },
        "outputId": "900876b7-c250-4680-a392-84097bdf8d36"
      },
      "source": [
        "\n",
        "plt.plot(histogramamenos[1][0:(len(histogramamenos[1])-1)],(histogramamais[0]/histogramamenos[0]))\n",
        "plt.grid(True)\n",
        "plt.semilogx()\n",
        "plt.title(\"$p_{+}(x)/p_{-}(x)$\")\n",
        "plt.show()"
      ],
      "execution_count": null,
      "outputs": [
        {
          "output_type": "display_data",
          "data": {
            "image/png": "[encoded data removed]",
            "text/plain": [
              "<Figure size 432x288 with 1 Axes>"
            ]
          },
          "metadata": {
            "tags": [],
            "needs_background": "light"
          }
        }
      ]
    },
    {
      "cell_type": "code",
      "metadata": {
        "id": "3l0lF9yZdOUG",
        "colab": {
          "base_uri": "https://localhost:8080/",
          "height": 286
        },
        "outputId": "60fc7676-0df7-4bb6-bc75-6d7933c340ed"
      },
      "source": [
        "plt.plot(volumesmais)\n",
        "plt.grid(True)\n",
        "plt.semilogy()"
      ],
      "execution_count": null,
      "outputs": [
        {
          "output_type": "execute_result",
          "data": {
            "text/plain": [
              "[]"
            ]
          },
          "metadata": {
            "tags": []
          },
          "execution_count": 34
        },
        {
          "output_type": "display_data",
          "data": {
            "image/png": "[encoded data removed]",
            "text/plain": [
              "<Figure size 432x288 with 1 Axes>"
            ]
          },
          "metadata": {
            "tags": [],
            "needs_background": "light"
          }
        }
      ]
    },
    {
      "cell_type": "code",
      "metadata": {
        "id": "e28__vj1dOUL",
        "colab": {
          "base_uri": "https://localhost:8080/",
          "height": 286
        },
        "outputId": "8e70bfbe-4d0a-4df5-ae08-f742fdb98c9c"
      },
      "source": [
        "plt.plot(volumesmenos)\n",
        "plt.grid(True)\n",
        "plt.semilogy()"
      ],
      "execution_count": null,
      "outputs": [
        {
          "output_type": "execute_result",
          "data": {
            "text/plain": [
              "[]"
            ]
          },
          "metadata": {
            "tags": []
          },
          "execution_count": 35
        },
        {
          "output_type": "display_data",
          "data": {
            "image/png": "[encoded data removed]",
            "text/plain": [
              "<Figure size 432x288 with 1 Axes>"
            ]
          },
          "metadata": {
            "tags": [],
            "needs_background": "light"
          }
        }
      ]
    },
    {
      "cell_type": "code",
      "metadata": {
        "id": "WZjHojgXdOUS",
        "outputId": "c6eb925d-dc48-4f98-aed0-c640c386b3d4"
      },
      "source": [
        "plt.plot(df3['<LAST>'])"
      ],
      "execution_count": null,
      "outputs": [
        {
          "output_type": "execute_result",
          "data": {
            "text/plain": [
              "[<matplotlib.lines.Line2D at 0x122dc1390>]"
            ]
          },
          "metadata": {
            "tags": []
          },
          "execution_count": 41
        },
        {
          "output_type": "display_data",
          "data": {
            "image/png": "[encoded data removed]",
            "text/plain": [
              "<Figure size 432x288 with 1 Axes>"
            ]
          },
          "metadata": {
            "tags": [],
            "needs_background": "light"
          }
        }
      ]
    },
    {
      "cell_type": "code",
      "metadata": {
        "id": "MrxpHCexdOUW",
        "outputId": "3924d2ff-1572-4f8e-b02e-4a0e336e7258"
      },
      "source": [
        "df3.head()"
      ],
      "execution_count": null,
      "outputs": [
        {
          "output_type": "execute_result",
          "data": {
            "text/html": [
              "<div>\n",
              "<style scoped>\n",
              "    .dataframe tbody tr th:only-of-type {\n",
              "        vertical-align: middle;\n",
              "    }\n",
              "\n",
              "    .dataframe tbody tr th {\n",
              "        vertical-align: top;\n",
              "    }\n",
              "\n",
              "    .dataframe thead th {\n",
              "        text-align: right;\n",
              "    }\n",
              "</style>\n",
              "<table border=\"1\" class=\"dataframe\">\n",
              "  <thead>\n",
              "    <tr style=\"text-align: right;\">\n",
              "      <th></th>\n",
              "      <th>&lt;DATE&gt;</th>\n",
              "      <th>&lt;TIME&gt;</th>\n",
              "      <th>&lt;LAST&gt;</th>\n",
              "      <th>&lt;VOLUME&gt;</th>\n",
              "      <th>tempofiltrado</th>\n",
              "    </tr>\n",
              "  </thead>\n",
              "  <tbody>\n",
              "    <tr>\n",
              "      <th>1</th>\n",
              "      <td>2016.02.01</td>\n",
              "      <td>10:01:00.000</td>\n",
              "      <td>40397.0</td>\n",
              "      <td>16840949.0</td>\n",
              "      <td>10:01</td>\n",
              "    </tr>\n",
              "    <tr>\n",
              "      <th>2</th>\n",
              "      <td>2016.02.01</td>\n",
              "      <td>10:01:30.000</td>\n",
              "      <td>40381.0</td>\n",
              "      <td>256019.0</td>\n",
              "      <td>10:01</td>\n",
              "    </tr>\n",
              "    <tr>\n",
              "      <th>3</th>\n",
              "      <td>2016.02.01</td>\n",
              "      <td>10:02:00.000</td>\n",
              "      <td>40384.0</td>\n",
              "      <td>390807.0</td>\n",
              "      <td>10:02</td>\n",
              "    </tr>\n",
              "    <tr>\n",
              "      <th>4</th>\n",
              "      <td>2016.02.01</td>\n",
              "      <td>10:02:30.000</td>\n",
              "      <td>40361.0</td>\n",
              "      <td>316598.0</td>\n",
              "      <td>10:02</td>\n",
              "    </tr>\n",
              "    <tr>\n",
              "      <th>5</th>\n",
              "      <td>2016.02.01</td>\n",
              "      <td>10:03:00.000</td>\n",
              "      <td>40360.0</td>\n",
              "      <td>3651113.0</td>\n",
              "      <td>10:03</td>\n",
              "    </tr>\n",
              "  </tbody>\n",
              "</table>\n",
              "</div>"
            ],
            "text/plain": [
              "       <DATE>        <TIME>   <LAST>    <VOLUME> tempofiltrado\n",
              "1  2016.02.01  10:01:00.000  40397.0  16840949.0         10:01\n",
              "2  2016.02.01  10:01:30.000  40381.0    256019.0         10:01\n",
              "3  2016.02.01  10:02:00.000  40384.0    390807.0         10:02\n",
              "4  2016.02.01  10:02:30.000  40361.0    316598.0         10:02\n",
              "5  2016.02.01  10:03:00.000  40360.0   3651113.0         10:03"
            ]
          },
          "metadata": {
            "tags": []
          },
          "execution_count": 45
        }
      ]
    },
    {
      "cell_type": "code",
      "metadata": {
        "id": "AtKUN7MpdOUa"
      },
      "source": [
        "listinmais=[]\n",
        "for i in range(0,len(volumesmais)):\n",
        "    if volumesmais[i]> 1.66020697e+19:\n",
        "        listinmais.append(i) "
      ],
      "execution_count": null,
      "outputs": []
    },
    {
      "cell_type": "markdown",
      "metadata": {
        "id": "Tx3rTfZodOUe"
      },
      "source": [
        "listin"
      ]
    },
    {
      "cell_type": "code",
      "metadata": {
        "id": "9b2344c_dOUf",
        "outputId": "55a1d5e6-50e1-472c-cbda-f06a90bcad9d"
      },
      "source": [
        "volumesmais[listinmais[5]]"
      ],
      "execution_count": null,
      "outputs": [
        {
          "output_type": "execute_result",
          "data": {
            "text/plain": [
              "1.8446744073707807e+19"
            ]
          },
          "metadata": {
            "tags": []
          },
          "execution_count": 101
        }
      ]
    },
    {
      "cell_type": "code",
      "metadata": {
        "id": "i5TGjQhIdOUj"
      },
      "source": [
        "listinmenos=[]\n",
        "for i in range(0,len(volumesmenos)):\n",
        "    if volumesmenos[i]> 1.66020697e+19:\n",
        "        listinmenos.append(i) "
      ],
      "execution_count": null,
      "outputs": []
    },
    {
      "cell_type": "code",
      "metadata": {
        "id": "7k-Kdo2UdOUm",
        "outputId": "b9906b00-c316-4ba1-bdaa-f8e72519b676"
      },
      "source": [
        "volumesmenos[listinmenos[6]]"
      ],
      "execution_count": null,
      "outputs": [
        {
          "output_type": "execute_result",
          "data": {
            "text/plain": [
              "1.844674407370869e+19"
            ]
          },
          "metadata": {
            "tags": []
          },
          "execution_count": 104
        }
      ]
    },
    {
      "cell_type": "code",
      "metadata": {
        "id": "kM9f6HxFdOUx",
        "outputId": "d42e938b-6069-4c20-b74c-b1c15017bbbb"
      },
      "source": [
        "#bins=np.logspace(np.log10(0.1),np.log10(1.0))\n",
        "np.logspace(np.log10(0.1),np.log10(10000000000000000000))"
      ],
      "execution_count": null,
      "outputs": [
        {
          "output_type": "execute_result",
          "data": {
            "text/plain": [
              "array([1.00000000e-01, 2.55954792e-01, 6.55128557e-01, 1.67683294e+00,\n",
              "       4.29193426e+00, 1.09854114e+01, 2.81176870e+01, 7.19685673e+01,\n",
              "       1.84206997e+02, 4.71486636e+02, 1.20679264e+03, 3.08884360e+03,\n",
              "       7.90604321e+03, 2.02358965e+04, 5.17947468e+04, 1.32571137e+05,\n",
              "       3.39322177e+05, 8.68511374e+05, 2.22299648e+06, 5.68986603e+06,\n",
              "       1.45634848e+07, 3.72759372e+07, 9.54095476e+07, 2.44205309e+08,\n",
              "       6.25055193e+08, 1.59985872e+09, 4.09491506e+09, 1.04811313e+10,\n",
              "       2.68269580e+10, 6.86648845e+10, 1.75751062e+11, 4.49843267e+11,\n",
              "       1.15139540e+12, 2.94705170e+12, 7.54312006e+12, 1.93069773e+13,\n",
              "       4.94171336e+13, 1.26485522e+14, 3.23745754e+14, 8.28642773e+14,\n",
              "       2.12095089e+15, 5.42867544e+15, 1.38949549e+16, 3.55648031e+16,\n",
              "       9.10298178e+16, 2.32995181e+17, 5.96362332e+17, 1.52641797e+18,\n",
              "       3.90693994e+18, 1.00000000e+19])"
            ]
          },
          "metadata": {
            "tags": []
          },
          "execution_count": 139
        }
      ]
    },
    {
      "cell_type": "code",
      "metadata": {
        "id": "eBlyyXwkdOU0",
        "outputId": "a4f8c94a-d62b-4e16-9acb-f2fa7d47d0cb"
      },
      "source": [
        "df3[34131:34132]"
      ],
      "execution_count": null,
      "outputs": [
        {
          "output_type": "execute_result",
          "data": {
            "text/html": [
              "<div>\n",
              "<style scoped>\n",
              "    .dataframe tbody tr th:only-of-type {\n",
              "        vertical-align: middle;\n",
              "    }\n",
              "\n",
              "    .dataframe tbody tr th {\n",
              "        vertical-align: top;\n",
              "    }\n",
              "\n",
              "    .dataframe thead th {\n",
              "        text-align: right;\n",
              "    }\n",
              "</style>\n",
              "<table border=\"1\" class=\"dataframe\">\n",
              "  <thead>\n",
              "    <tr style=\"text-align: right;\">\n",
              "      <th></th>\n",
              "      <th>&lt;DATE&gt;</th>\n",
              "      <th>&lt;TIME&gt;</th>\n",
              "      <th>&lt;LAST&gt;</th>\n",
              "      <th>&lt;VOLUME&gt;</th>\n",
              "      <th>tempofiltrado</th>\n",
              "    </tr>\n",
              "  </thead>\n",
              "  <tbody>\n",
              "    <tr>\n",
              "      <th>34186</th>\n",
              "      <td>2016.03.28</td>\n",
              "      <td>11:44:30.000</td>\n",
              "      <td>50344.0</td>\n",
              "      <td>1.844674e+19</td>\n",
              "      <td>11:44</td>\n",
              "    </tr>\n",
              "  </tbody>\n",
              "</table>\n",
              "</div>"
            ],
            "text/plain": [
              "           <DATE>        <TIME>   <LAST>      <VOLUME> tempofiltrado\n",
              "34186  2016.03.28  11:44:30.000  50344.0  1.844674e+19         11:44"
            ]
          },
          "metadata": {
            "tags": []
          },
          "execution_count": 172
        }
      ]
    },
    {
      "cell_type": "code",
      "metadata": {
        "id": "Uqe9nXjadOU5",
        "outputId": "c7941872-6824-4dd7-9b01-10c70c436a4f"
      },
      "source": [
        "df3[34552:34553]"
      ],
      "execution_count": null,
      "outputs": [
        {
          "output_type": "execute_result",
          "data": {
            "text/html": [
              "<div>\n",
              "<style scoped>\n",
              "    .dataframe tbody tr th:only-of-type {\n",
              "        vertical-align: middle;\n",
              "    }\n",
              "\n",
              "    .dataframe tbody tr th {\n",
              "        vertical-align: top;\n",
              "    }\n",
              "\n",
              "    .dataframe thead th {\n",
              "        text-align: right;\n",
              "    }\n",
              "</style>\n",
              "<table border=\"1\" class=\"dataframe\">\n",
              "  <thead>\n",
              "    <tr style=\"text-align: right;\">\n",
              "      <th></th>\n",
              "      <th>&lt;DATE&gt;</th>\n",
              "      <th>&lt;TIME&gt;</th>\n",
              "      <th>&lt;LAST&gt;</th>\n",
              "      <th>&lt;VOLUME&gt;</th>\n",
              "      <th>tempofiltrado</th>\n",
              "    </tr>\n",
              "  </thead>\n",
              "  <tbody>\n",
              "    <tr>\n",
              "      <th>34607</th>\n",
              "      <td>2016.03.28</td>\n",
              "      <td>15:15:00.000</td>\n",
              "      <td>50966.0</td>\n",
              "      <td>1.844674e+19</td>\n",
              "      <td>15:15</td>\n",
              "    </tr>\n",
              "  </tbody>\n",
              "</table>\n",
              "</div>"
            ],
            "text/plain": [
              "           <DATE>        <TIME>   <LAST>      <VOLUME> tempofiltrado\n",
              "34607  2016.03.28  15:15:00.000  50966.0  1.844674e+19         15:15"
            ]
          },
          "metadata": {
            "tags": []
          },
          "execution_count": 174
        }
      ]
    },
    {
      "cell_type": "code",
      "metadata": {
        "id": "TtK3bXjsdOU9",
        "outputId": "92f886ec-9797-42fd-965a-e35d604f7133"
      },
      "source": [
        "indicesmais[16171]"
      ],
      "execution_count": null,
      "outputs": [
        {
          "output_type": "execute_result",
          "data": {
            "text/plain": [
              "34552"
            ]
          },
          "metadata": {
            "tags": []
          },
          "execution_count": 173
        }
      ]
    },
    {
      "cell_type": "code",
      "metadata": {
        "id": "l8w1JyWSdOVF"
      },
      "source": [
        ""
      ],
      "execution_count": null,
      "outputs": []
    }
  ]
}