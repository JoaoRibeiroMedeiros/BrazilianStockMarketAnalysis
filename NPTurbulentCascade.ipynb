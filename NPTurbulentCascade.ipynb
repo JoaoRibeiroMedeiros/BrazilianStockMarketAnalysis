{
  "nbformat": 4,
  "nbformat_minor": 0,
  "metadata": {
    "kernelspec": {
      "display_name": "Python 3",
      "language": "python",
      "name": "python3"
    },
    "language_info": {
      "codemirror_mode": {
        "name": "ipython",
        "version": 3
      },
      "file_extension": ".py",
      "mimetype": "text/x-python",
      "name": "python",
      "nbconvert_exporter": "python",
      "pygments_lexer": "ipython3",
      "version": "3.6.8"
    },
    "colab": {
      "name": "NPTurbulentCascade.ipynb",
      "provenance": []
    }
  },
  "cells": [
    {
      "cell_type": "code",
      "metadata": {
        "id": "qPWvyXgPzNBd"
      },
      "source": [
        "import numpy as np\n",
        "import pandas as pd\n",
        "import matplotlib.pyplot as plt\n",
        "from math import exp, log\n",
        "from scipy.integrate import quad"
      ],
      "execution_count": 2,
      "outputs": []
    },
    {
      "cell_type": "code",
      "metadata": {
        "id": "x67nemGLzNBg"
      },
      "source": [
        ""
      ],
      "execution_count": null,
      "outputs": []
    },
    {
      "cell_type": "code",
      "metadata": {
        "colab": {
          "base_uri": "https://localhost:8080/"
        },
        "id": "aUy8yR_bzNBh",
        "outputId": "e478be2a-6930-4ef0-c749-260c97dd6030"
      },
      "source": [
        "serie = pd.read_csv('langetur.csv', header=None)\n",
        "len(serie)\n",
        "#serie = serie[0:100000]"
      ],
      "execution_count": 3,
      "outputs": [
        {
          "output_type": "execute_result",
          "data": {
            "text/plain": [
              "1000000"
            ]
          },
          "metadata": {
            "tags": []
          },
          "execution_count": 3
        }
      ]
    },
    {
      "cell_type": "code",
      "metadata": {
        "colab": {
          "base_uri": "https://localhost:8080/",
          "height": 295
        },
        "id": "own79gJszNBh",
        "outputId": "d8430a8e-5e2e-4e18-c5c3-bf4927697f97"
      },
      "source": [
        "plt.plot(serie)"
      ],
      "execution_count": 4,
      "outputs": [
        {
          "output_type": "execute_result",
          "data": {
            "text/plain": [
              "[<matplotlib.lines.Line2D at 0x7f65dba335f8>]"
            ]
          },
          "metadata": {
            "tags": []
          },
          "execution_count": 4
        },
        {
          "output_type": "display_data",
          "data": {
            "image/png": "[encoded data removed]",
            "text/plain": [
              "<Figure size 432x288 with 1 Axes>"
            ]
          },
          "metadata": {
            "tags": [],
            "needs_background": "light"
          }
        }
      ]
    },
    {
      "cell_type": "code",
      "metadata": {
        "colab": {
          "base_uri": "https://localhost:8080/"
        },
        "id": "c_F91wF_DtwU",
        "outputId": "d812bae1-91d7-4349-d1d7-840a6ab5d3d4"
      },
      "source": [
        "serie10 = pd.read_csv('langetur10.csv', header=None)\n",
        "len(serie10)\n",
        "#serie = serie[0:100000]"
      ],
      "execution_count": 8,
      "outputs": [
        {
          "output_type": "execute_result",
          "data": {
            "text/plain": [
              "100001"
            ]
          },
          "metadata": {
            "tags": []
          },
          "execution_count": 8
        }
      ]
    },
    {
      "cell_type": "code",
      "metadata": {
        "id": "2oIIj54bGTGa"
      },
      "source": [
        "serie10=serie10[1:]"
      ],
      "execution_count": 10,
      "outputs": []
    },
    {
      "cell_type": "code",
      "metadata": {
        "id": "7THuS-2JGexp"
      },
      "source": [
        ""
      ],
      "execution_count": 13,
      "outputs": []
    },
    {
      "cell_type": "code",
      "metadata": {
        "colab": {
          "base_uri": "https://localhost:8080/"
        },
        "id": "f7DXT7ZBEFhK",
        "outputId": "120c4b64-089b-4c08-ac10-b458d3c63b20"
      },
      "source": [
        "plt.plot(serie10[0])"
      ],
      "execution_count": null,
      "outputs": [
        {
          "output_type": "execute_result",
          "data": {
            "text/plain": [
              "[<matplotlib.lines.Line2D at 0x7f65d2452940>]"
            ]
          },
          "metadata": {
            "tags": []
          },
          "execution_count": 14
        }
      ]
    },
    {
      "cell_type": "code",
      "metadata": {
        "id": "wpJHymnFzNBi"
      },
      "source": [
        "def removeDuplicates(listofElements):\n",
        "    \n",
        "    uniqueList = []    \n",
        "\n",
        "    for elem in listofElements:\n",
        "        if elem not in uniqueList:\n",
        "            uniqueList.append(elem)\n",
        "        \n",
        "    return uniqueList\n",
        "\n",
        "def entreescalaridade(lista):\n",
        "    \n",
        "    uniqueList = []    \n",
        "\n",
        "    lista\n",
        "    \n",
        "    for i in range(0,len(lista)-1):\n",
        "        if -(lista[i]-lista[i+1])>3:\n",
        "            uniqueList.append(lista[i])\n",
        "        \n",
        "        \n",
        "    return uniqueList\n",
        "\n",
        "\n",
        "\n",
        "\n",
        "def define_escalas(Rmin,Rmax, Nescalas):\n",
        "    \n",
        "    escalas = []\n",
        "    \n",
        "    rrange = log(Rmax-Rmin)/Nescalas\n",
        "    \n",
        "    escalas.append(Rmin)\n",
        "    \n",
        "    for i in range( 0 , Nescalas ):\n",
        "        \n",
        "        x = i * rrange\n",
        "        \n",
        "        novaescala = round( Rmin+ exp(x)    )\n",
        "        \n",
        "        escalas.append(novaescala)\n",
        "        \n",
        "    escalas.append(Rmax)\n",
        "    \n",
        "    \n",
        "    return escalas\n",
        "\n",
        "def nmoment(x, c, n):\n",
        "    return np.sum((x-c)**n) / len(x)\n",
        "\n",
        "def igualaindices(Ur, Nescalas):\n",
        "    Ufinal= []\n",
        "    for i in range(0,Nescalas):\n",
        "        Urr = np.zeros(len(Ur[i][~np.isnan(Ur[i])]))\n",
        "        Urr = Ur[i][~np.isnan(Ur[i])]\n",
        "        Ufinal.append(Urr)\n",
        "    return Ufinal"
      ],
      "execution_count": null,
      "outputs": []
    },
    {
      "cell_type": "code",
      "metadata": {
        "id": "kHgquHA2zNBi"
      },
      "source": [
        "Nescalas = 20\n",
        "Rmin = 10\n",
        "Rmax = 5000\n",
        "breaks = 30\n",
        "entrescalas = 2\n",
        "\n",
        "escalas = define_escalas(Rmin,Rmax, Nescalas)\n",
        "#print(escalas)\n",
        "escalas = removeDuplicates(escalas)\n",
        "escalas = entreescalaridade(escalas)\n",
        "#print(escalas)\n",
        "Nescalas = len(escalas)\n",
        "Nescalas"
      ],
      "execution_count": null,
      "outputs": []
    },
    {
      "cell_type": "code",
      "metadata": {
        "id": "teJ5rAEezNBi"
      },
      "source": [
        ""
      ],
      "execution_count": null,
      "outputs": []
    },
    {
      "cell_type": "code",
      "metadata": {
        "id": "DbV_AS8DzNBj"
      },
      "source": [
        "\n"
      ],
      "execution_count": null,
      "outputs": []
    },
    {
      "cell_type": "code",
      "metadata": {
        "id": "UaDu3tWTzNBj"
      },
      "source": [
        ""
      ],
      "execution_count": null,
      "outputs": []
    },
    {
      "cell_type": "code",
      "metadata": {
        "id": "0qtj5tmdzNBj"
      },
      "source": [
        "Nescalas=6\n",
        "escalas=[10,50,100,200,500,1000]\n",
        "entrescalas=2\n",
        "\n",
        "breaks=20"
      ],
      "execution_count": null,
      "outputs": []
    },
    {
      "cell_type": "code",
      "metadata": {
        "id": "7ioP9RnKzNBk"
      },
      "source": [
        "incrementos = np.zeros((Nescalas,len(serie)))\n",
        "\n",
        "Urr = np.zeros((Nescalas,len(serie))  )\n",
        "\n",
        "HistUr = np.zeros((Nescalas,breaks))\n",
        "HistDenseUr = np.zeros((Nescalas,breaks))\n",
        "\n",
        "BreaksUr = np.zeros((Nescalas,breaks+1))\n",
        "\n",
        "Entrebin = np.zeros((Nescalas,breaks))\n",
        "\n",
        "DD1=np.zeros((Nescalas,breaks,entrescalas))\n",
        "DD2=np.zeros((Nescalas,breaks,entrescalas))\n",
        "\n",
        "D1=np.zeros((Nescalas,breaks))\n",
        "D2=np.zeros((Nescalas,breaks))\n",
        "\n",
        "\n"
      ],
      "execution_count": null,
      "outputs": []
    },
    {
      "cell_type": "code",
      "metadata": {
        "id": "EivW3pS5zNBk"
      },
      "source": [
        "#np.shape(Entretau)\n",
        "#Entretau"
      ],
      "execution_count": null,
      "outputs": []
    },
    {
      "cell_type": "code",
      "metadata": {
        "id": "IZV66v5bzNBk"
      },
      "source": [
        "Entretau=[]\n",
        "for i in range(0,Nescalas-1):\n",
        "    entre=[]\n",
        "    entre.append(round((escalas[i+1]-escalas[i])/2) )\n",
        "    entre.append(round((escalas[i+1]-escalas[i])/8 ) )\n",
        "    Entretau.append(entre)"
      ],
      "execution_count": null,
      "outputs": []
    },
    {
      "cell_type": "code",
      "metadata": {
        "id": "qLGalWyqzNBl",
        "outputId": "90e37fa6-13bd-4b00-93c1-62bf528e2134"
      },
      "source": [
        "print(Entretau)\n",
        "print(escalas)"
      ],
      "execution_count": null,
      "outputs": [
        {
          "output_type": "stream",
          "text": [
            "[[20, 5], [25, 6], [50, 12], [150, 38], [250, 62]]\n",
            "[10, 50, 100, 200, 500, 1000]\n"
          ],
          "name": "stdout"
        }
      ]
    },
    {
      "cell_type": "code",
      "metadata": {
        "id": "dOq1pirRzNBl"
      },
      "source": [
        "\n",
        "\n"
      ],
      "execution_count": null,
      "outputs": []
    },
    {
      "cell_type": "code",
      "metadata": {
        "id": "sBWQvOskzNBl"
      },
      "source": [
        "def CalculaHistogramaseIncrementos():\n",
        "    for i in range(0,Nescalas):\n",
        "    \n",
        "    Urr[i] = np.reshape(serie.diff(escalas[i]).values,Urr[i].shape)\n",
        "    Ur = igualaindices(Urr, Nescalas)\n",
        "    hist = np.histogram(Ur[i][~np.isnan(Ur[i])],bins=breaks,density=False)\n",
        "    hist2 = np.histogram(Ur[i][~np.isnan(Ur[i])],bins=breaks,density=True)\n",
        "    \n",
        "    HistUr[i] = hist[0]\n",
        "    HistDenseUr[i] = hist2[0]\n",
        "    BreaksUr[i] = hist[1]\n",
        "    entr = np.zeros(breaks)\n",
        "    \n",
        "    for j in range(0,len(hist[0])):\n",
        "        entr[j]=(hist[1][j+1]+hist[1][j])/2\n",
        "        \n",
        "    Entrebin[i]=entr\n",
        "    "
      ],
      "execution_count": null,
      "outputs": []
    },
    {
      "cell_type": "code",
      "metadata": {
        "id": "IQgD61H2zNBl"
      },
      "source": [
        ""
      ],
      "execution_count": null,
      "outputs": []
    },
    {
      "cell_type": "code",
      "metadata": {
        "id": "XuSg4boCzNBl",
        "outputId": "15e9e066-c046-445c-f0da-82b28ce00029"
      },
      "source": [
        "def CalculaDD1DD2(Nescalas,breaks, entrescalas, )\n",
        "    # D1 e D2\n",
        "    \n",
        "    DD1=np.zeros((Nescalas,breaks,entrescalas))\n",
        "    DD2=np.zeros((Nescalas,breaks,entrescalas))\n",
        "\n",
        "    D1=np.zeros((Nescalas,breaks))\n",
        "    D2=np.zeros((Nescalas,breaks))\n",
        "\n",
        "\n",
        "    for i in range(2,Nescalas):\n",
        "        print(i)\n",
        "        for j in range(0,breaks):\n",
        "            #print(j)\n",
        "            #entreescalas1=[]\n",
        "            #entreescalas2=[]\n",
        "            for k in range(0,entrescalas):\n",
        "                entreescalas = serie.diff(escalas[i]-Entretau[i-1][k])\n",
        "                entreescalas = np.array(entreescalas)\n",
        "                entreescalas = entreescalas[~np.isnan(entreescalas)]\n",
        "                for l in range(0,len(serie)-escalas[i]):\n",
        "                    if BreaksUr[i][j] < Ur[i][l] < BreaksUr[i][j+1]:\n",
        "                        DD1[i][j][k] = DD1[i][j][k] + entreescalas[l] - Entrebin[i][j]\n",
        "                        DD2[i][j][k] = DD2[i][j][k] + (entreescalas[l] - Entrebin[i][j])**2\n",
        "                        if np.isnan(DD2[i][j][k]):\n",
        "                            print(entreescalas[l])\n",
        "                            print(i,j,k)\n",
        "                            print(l)\n",
        "                if DD1[i][j][k]!=0: \n",
        "                    DD1[i][j][k] = (DD1[i][j][k]*escalas[i])/(HistUr[i][j]*(Entretau[i-1][k]))\n",
        "                    DD2[i][j][k] = (DD2[i][j][k]*escalas[i])/(2*HistUr[i][j]*(Entretau[i-1][k]))\n",
        "\n",
        "            D1[i][j] = (Entretau[i-1][1]*DD1[i][j][0] - Entretau[i-1][0]*DD1[i][j][1])/(Entretau[i-1][1]-Entretau[i-1][0])  #extrapolacao manual linear (só dois pontos)\n",
        "            D2[i][j] = (Entretau[i-1][1]*DD2[i][j][0] - Entretau[i-1][0]*DD2[i][j][1])/(Entretu[i-1][1]-Entretau[i-1][0])\n",
        "\n",
        "            return D1,D2, DD1, DD2"
      ],
      "execution_count": null,
      "outputs": [
        {
          "output_type": "stream",
          "text": [
            "2\n",
            "3\n",
            "4\n",
            "5\n"
          ],
          "name": "stdout"
        }
      ]
    },
    {
      "cell_type": "code",
      "metadata": {
        "id": "lqhtDWpMzNBm"
      },
      "source": [
        "def ajustespolinomiais(D1,D2): \n",
        "    polyD1 = np.zeros((breaks, 2))\n",
        "    polyD2 = np.zeros(( breaks,5))\n",
        "    ajuste = 1\n",
        "    for i in range(0,Nescalas):\n",
        "        print(i)\n",
        "        polyD1[i] = np.polyfit(Entrebin[i][ajuste:(len(D1[2])-ajuste)],D1[i][ajuste:(len(D1[2])-ajuste)],1)\n",
        "        polyD2[i] = np.polyfit(Entrebin[i][ajuste:(len(D2[2])-ajuste)],D2[i][ajuste:(len(D2[2])-ajuste)],0)\n",
        "return polyD1, polyD2\n"
      ],
      "execution_count": null,
      "outputs": []
    },
    {
      "cell_type": "markdown",
      "metadata": {
        "id": "FTFf0dp_zNBm"
      },
      "source": [
        ""
      ]
    },
    {
      "cell_type": "code",
      "metadata": {
        "id": "ehTg_hExzNBn"
      },
      "source": [
        ""
      ],
      "execution_count": null,
      "outputs": []
    },
    {
      "cell_type": "code",
      "metadata": {
        "id": "x33P9SGIzNBn",
        "outputId": "ae1196be-3917-4a6f-d89b-84792a704e9b"
      },
      "source": [
        "plt.plot(D2[5])"
      ],
      "execution_count": null,
      "outputs": [
        {
          "output_type": "execute_result",
          "data": {
            "text/plain": [
              "[<matplotlib.lines.Line2D at 0x152478da58>]"
            ]
          },
          "metadata": {
            "tags": []
          },
          "execution_count": 22
        },
        {
          "output_type": "display_data",
          "data": {
            "image/png": "[encoded data removed]",
            "text/plain": [
              "<Figure size 432x288 with 1 Axes>"
            ]
          },
          "metadata": {
            "tags": [],
            "needs_background": "light"
          }
        }
      ]
    },
    {
      "cell_type": "code",
      "metadata": {
        "id": "2saXciffzNBn"
      },
      "source": [
        ""
      ],
      "execution_count": null,
      "outputs": []
    },
    {
      "cell_type": "code",
      "metadata": {
        "id": "dsJsmoiszNBn",
        "outputId": "a5d8cda0-2f29-49e1-80c1-03d3938bda23"
      },
      "source": [
        "#a = entreescalas[\n",
        "len(entreescalas)"
      ],
      "execution_count": null,
      "outputs": [
        {
          "output_type": "execute_result",
          "data": {
            "text/plain": [
              "20000"
            ]
          },
          "metadata": {
            "tags": []
          },
          "execution_count": 48
        }
      ]
    },
    {
      "cell_type": "code",
      "metadata": {
        "id": "O8Ebk6hkzNBo"
      },
      "source": [
        ""
      ],
      "execution_count": null,
      "outputs": []
    },
    {
      "cell_type": "code",
      "metadata": {
        "id": "0w9uPiSNzNBo",
        "outputId": "5fbd9150-6ca8-4dac-eae9-8a8d545174a4"
      },
      "source": [
        "\n",
        "plt.plot(D2[4])"
      ],
      "execution_count": null,
      "outputs": [
        {
          "output_type": "execute_result",
          "data": {
            "text/plain": [
              "[<matplotlib.lines.Line2D at 0x115af9550>]"
            ]
          },
          "metadata": {
            "tags": []
          },
          "execution_count": 174
        },
        {
          "output_type": "display_data",
          "data": {
            "image/png": "[encoded data removed]",
            "text/plain": [
              "<matplotlib.figure.Figure at 0x115e266a0>"
            ]
          },
          "metadata": {
            "tags": []
          }
        }
      ]
    },
    {
      "cell_type": "code",
      "metadata": {
        "id": "yZjnHBZZzNBo",
        "outputId": "4118826c-c9e0-4c8d-ecfa-8c29c6a44210"
      },
      "source": [
        "D2[2][3:len(D2[2])-1]"
      ],
      "execution_count": null,
      "outputs": [
        {
          "output_type": "execute_result",
          "data": {
            "text/plain": [
              "array([116.09258936, 116.60018339, 113.59792521, 108.12382948,\n",
              "       107.88461297, 105.90314643, 106.11332013, 106.06144099,\n",
              "       107.37596764, 109.30774802, 110.28524938, 109.93282193,\n",
              "       111.54019628, 116.2566016 , 130.12517315, 135.12732631])"
            ]
          },
          "metadata": {
            "tags": []
          },
          "execution_count": 26
        }
      ]
    },
    {
      "cell_type": "code",
      "metadata": {
        "id": "YU1D5IC6zNBo",
        "outputId": "9d32fc4b-faf0-4a41-8c5d-208442c6ec06"
      },
      "source": [
        ""
      ],
      "execution_count": null,
      "outputs": [
        {
          "output_type": "stream",
          "text": [
            "0\n",
            "1\n",
            "2\n",
            "3\n",
            "4\n",
            "5\n"
          ],
          "name": "stdout"
        }
      ]
    },
    {
      "cell_type": "code",
      "metadata": {
        "id": "DDxkQx2nzNBp"
      },
      "source": [
        "a = np.logspace(1,3,10)\n",
        "b = np.linspace(1,7,10)"
      ],
      "execution_count": null,
      "outputs": []
    },
    {
      "cell_type": "code",
      "metadata": {
        "id": "eS2D19TozNBp"
      },
      "source": [
        "def testefit(x):\n",
        "    return np.polyfit(a,b,1)[0]*x + np.polyfit(a,b,1)[1]"
      ],
      "execution_count": null,
      "outputs": []
    },
    {
      "cell_type": "code",
      "metadata": {
        "id": "wMU6hXFtzNBp",
        "outputId": "05bb49fa-b11c-4da2-c9e9-b9ebba22448b"
      },
      "source": [
        "plt.plot(b)\n",
        "plt.plot(testefit(a))\n",
        "plt.show()"
      ],
      "execution_count": null,
      "outputs": [
        {
          "output_type": "display_data",
          "data": {
            "image/png": "[encoded data removed]",
            "text/plain": [
              "<matplotlib.figure.Figure at 0x1156822e8>"
            ]
          },
          "metadata": {
            "tags": []
          }
        }
      ]
    },
    {
      "cell_type": "code",
      "metadata": {
        "id": "yga8bNdNzNBp",
        "outputId": "8b8c5f73-1c91-4035-bba5-b37883b94aac"
      },
      "source": [
        "\n",
        "\n",
        "def CalculaPHI(PolyD1, PolyD2):\n",
        "    PHI= np.zeros((Nescalas,breaks))\n",
        "    for i in range(2, Nescalas-1):\n",
        "        #def integrand(x):\n",
        "            #return ((polyD1[i][0]*x +polyD1[i][1])/(polyD2[i][0]*x**4+polyD2[i][1]*x**3+polyD2[i][2]*x**2 +polyD2[i][3]*x+polyD2[i][4]))\n",
        "        def d1(x):\n",
        "            return (polyD1[i][0]*x+polyD1[i][1])\n",
        "        def d2(x):\n",
        "            return (polyD2[i][0]*x**4+polyD2[i][1]*x**3+polyD2[i][2]*x**2 +polyD2[i][3]*x+polyD2[i][4])\n",
        "        def d20(x):\n",
        "            return (polyD2[i][0])\n",
        "        def integrand(x):\n",
        "            return (d1(x))/(d2(x))\n",
        "\n",
        "        for j in range(0,breaks):\n",
        "            print(i,j)\n",
        "            if D2[i][j]<0:\n",
        "                PHI[i][j] = 0\n",
        "            else:   \n",
        "                PHI[i][j] = log(D2[i][j]) - quad(integrand, -np.inf, Entrebin[i][j])[0]\n",
        "                #PHI[i][j] = log(d2(Entrebin[i][j])) - quad(integrand, -np.inf, Entrebin[i][j])[0]\n",
        "    return PHI\n"
      ],
      "execution_count": null,
      "outputs": [
        {
          "output_type": "stream",
          "text": [
            "2 0\n",
            "2 1\n",
            "2 2\n",
            "2 3\n",
            "2 4\n",
            "2 5\n",
            "2 6\n",
            "2 7\n",
            "2 8\n",
            "2 9\n",
            "2 10\n",
            "2 11\n",
            "2 12\n",
            "2 13\n",
            "2 14\n",
            "2 15\n",
            "2 16\n",
            "2 17\n",
            "2 18\n",
            "2 19\n",
            "2 20\n",
            "2 21\n",
            "2 22\n",
            "2 23\n",
            "2 24\n",
            "2 25\n",
            "2 26\n",
            "2 27\n",
            "2 28\n",
            "2 29\n",
            "3 0\n",
            "3 1\n",
            "3 2\n",
            "3 3\n",
            "3 4\n",
            "3 5\n",
            "3 6\n",
            "3 7\n",
            "3 8\n",
            "3 9\n",
            "3 10\n",
            "3 11\n",
            "3 12\n",
            "3 13\n",
            "3 14\n",
            "3 15\n",
            "3 16\n",
            "3 17\n",
            "3 18\n",
            "3 19\n",
            "3 20\n",
            "3 21\n",
            "3 22\n",
            "3 23\n",
            "3 24\n",
            "3 25\n",
            "3 26\n",
            "3 27\n",
            "3 28\n",
            "3 29\n",
            "4 0\n",
            "4 1\n",
            "4 2\n",
            "4 3\n",
            "4 4\n",
            "4 5\n",
            "4 6\n",
            "4 7\n",
            "4 8\n",
            "4 9\n",
            "4 10\n",
            "4 11\n",
            "4 12\n",
            "4 13\n",
            "4 14\n",
            "4 15\n",
            "4 16\n",
            "4 17\n",
            "4 18\n",
            "4 19\n",
            "4 20\n",
            "4 21\n",
            "4 22\n",
            "4 23\n",
            "4 24\n",
            "4 25\n",
            "4 26\n",
            "4 27\n",
            "4 28\n",
            "4 29\n",
            "5 0\n",
            "5 1\n",
            "5 2\n",
            "5 3\n",
            "5 4\n",
            "5 5\n",
            "5 6\n",
            "5 7\n",
            "5 8\n",
            "5 9\n",
            "5 10\n",
            "5 11\n",
            "5 12\n",
            "5 13\n",
            "5 14\n",
            "5 15\n",
            "5 16\n",
            "5 17\n",
            "5 18\n",
            "5 19\n",
            "5 20\n",
            "5 21\n",
            "5 22\n",
            "5 23\n",
            "5 24\n",
            "5 25\n",
            "5 26\n",
            "5 27\n",
            "5 28\n",
            "5 29\n",
            "6 0\n",
            "6 1\n",
            "6 2\n",
            "6 3\n",
            "6 4\n",
            "6 5\n",
            "6 6\n",
            "6 7\n",
            "6 8\n",
            "6 9\n",
            "6 10\n",
            "6 11\n",
            "6 12\n",
            "6 13\n",
            "6 14\n",
            "6 15\n",
            "6 16\n",
            "6 17\n",
            "6 18\n",
            "6 19\n",
            "6 20\n",
            "6 21\n",
            "6 22\n",
            "6 23\n",
            "6 24\n",
            "6 25\n",
            "6 26\n",
            "6 27\n",
            "6 28\n",
            "6 29\n",
            "7 0\n",
            "7 1\n",
            "7 2\n",
            "7 3\n",
            "7 4\n",
            "7 5\n",
            "7 6\n",
            "7 7\n",
            "7 8\n",
            "7 9\n",
            "7 10\n",
            "7 11\n",
            "7 12\n",
            "7 13\n",
            "7 14\n",
            "7 15\n",
            "7 16\n",
            "7 17\n",
            "7 18\n",
            "7 19\n",
            "7 20\n",
            "7 21\n",
            "7 22\n",
            "7 23\n",
            "7 24\n",
            "7 25\n",
            "7 26\n",
            "7 27\n",
            "7 28\n",
            "7 29\n",
            "8 0\n",
            "8 1\n",
            "8 2\n",
            "8 3\n",
            "8 4\n",
            "8 5\n",
            "8 6\n",
            "8 7\n",
            "8 8\n",
            "8 9\n",
            "8 10\n",
            "8 11\n",
            "8 12\n",
            "8 13\n",
            "8 14\n",
            "8 15\n",
            "8 16\n",
            "8 17\n",
            "8 18\n",
            "8 19\n",
            "8 20\n",
            "8 21\n",
            "8 22\n",
            "8 23\n",
            "8 24\n",
            "8 25\n",
            "8 26\n",
            "8 27\n",
            "8 28\n",
            "8 29\n",
            "9 0\n",
            "9 1\n",
            "9 2\n",
            "9 3\n",
            "9 4\n",
            "9 5\n",
            "9 6\n",
            "9 7\n",
            "9 8\n",
            "9 9\n",
            "9 10\n",
            "9 11\n",
            "9 12\n",
            "9 13\n",
            "9 14\n",
            "9 15\n",
            "9 16\n",
            "9 17\n",
            "9 18\n",
            "9 19\n",
            "9 20\n",
            "9 21\n",
            "9 22\n",
            "9 23\n",
            "9 24\n",
            "9 25\n",
            "9 26\n",
            "9 27\n",
            "9 28\n",
            "9 29\n",
            "10 0\n",
            "10 1\n",
            "10 2\n",
            "10 3\n",
            "10 4\n",
            "10 5\n",
            "10 6\n",
            "10 7\n",
            "10 8\n",
            "10 9\n",
            "10 10\n",
            "10 11\n",
            "10 12\n",
            "10 13\n",
            "10 14\n",
            "10 15\n",
            "10 16\n",
            "10 17\n",
            "10 18\n",
            "10 19\n",
            "10 20\n",
            "10 21\n",
            "10 22\n",
            "10 23\n",
            "10 24\n",
            "10 25\n",
            "10 26\n",
            "10 27\n",
            "10 28\n",
            "10 29\n",
            "11 0\n",
            "11 1\n",
            "11 2\n",
            "11 3\n",
            "11 4\n",
            "11 5\n",
            "11 6\n",
            "11 7\n",
            "11 8\n",
            "11 9\n",
            "11 10\n",
            "11 11\n",
            "11 12\n",
            "11 13\n",
            "11 14\n",
            "11 15\n",
            "11 16\n",
            "11 17\n",
            "11 18\n",
            "11 19\n",
            "11 20\n",
            "11 21\n",
            "11 22\n",
            "11 23\n",
            "11 24\n",
            "11 25\n",
            "11 26\n",
            "11 27\n",
            "11 28\n",
            "11 29\n",
            "12 0\n",
            "12 1\n",
            "12 2\n",
            "12 3\n",
            "12 4\n",
            "12 5\n",
            "12 6\n",
            "12 7\n",
            "12 8\n",
            "12 9\n",
            "12 10\n",
            "12 11\n",
            "12 12\n",
            "12 13\n",
            "12 14\n",
            "12 15\n",
            "12 16\n",
            "12 17\n",
            "12 18\n",
            "12 19\n",
            "12 20\n",
            "12 21\n",
            "12 22\n",
            "12 23\n",
            "12 24\n",
            "12 25\n",
            "12 26\n",
            "12 27\n",
            "12 28\n",
            "12 29\n",
            "13 0\n",
            "13 1\n",
            "13 2\n",
            "13 3\n",
            "13 4\n",
            "13 5\n",
            "13 6\n",
            "13 7\n",
            "13 8\n",
            "13 9\n",
            "13 10\n",
            "13 11\n",
            "13 12\n",
            "13 13\n",
            "13 14\n",
            "13 15\n",
            "13 16\n",
            "13 17\n",
            "13 18\n",
            "13 19\n",
            "13 20\n",
            "13 21\n",
            "13 22\n",
            "13 23\n"
          ],
          "name": "stdout"
        },
        {
          "output_type": "stream",
          "text": [
            "/anaconda3/lib/python3.6/site-packages/scipy/integrate/quadpack.py:364: IntegrationWarning: The algorithm does not converge.  Roundoff error is detected\n",
            "  in the extrapolation table.  It is assumed that the requested tolerance\n",
            "  cannot be achieved, and that the returned result (if full_output = 1) is \n",
            "  the best which can be obtained.\n",
            "  warnings.warn(msg, IntegrationWarning)\n"
          ],
          "name": "stderr"
        },
        {
          "output_type": "stream",
          "text": [
            "13 24\n",
            "13 25\n",
            "13 26\n",
            "13 27\n",
            "13 28\n",
            "13 29\n"
          ],
          "name": "stdout"
        }
      ]
    },
    {
      "cell_type": "code",
      "metadata": {
        "id": "A_1IvZkgzNBp",
        "outputId": "a293d356-006a-4249-9301-2c71e154d588"
      },
      "source": [
        "i=5\n",
        "\n",
        "def d1(x):\n",
        "    return (polyD1[i][0]*x+polyD1[i][1])\n",
        "def d2(x):\n",
        "    return (polyD2[i][0]*x**4+polyD2[i][1]*x**3+polyD2[i][2]*x**2 +polyD2[i][3]*x+polyD2[i][4])\n",
        "\n",
        "plt.plot(d2(Entrebin[i]))\n",
        "plt.plot(D2[i])\n",
        "plt.show()"
      ],
      "execution_count": null,
      "outputs": [
        {
          "output_type": "display_data",
          "data": {
            "image/png": "[encoded data removed]",
            "text/plain": [
              "<matplotlib.figure.Figure at 0x115d43be0>"
            ]
          },
          "metadata": {
            "tags": []
          }
        }
      ]
    },
    {
      "cell_type": "code",
      "metadata": {
        "id": "cIRNR-0RzNBq",
        "outputId": "b433d9ae-e7e8-48fb-b953-98d4d1303e41"
      },
      "source": [
        "plt.plot(PHI[11])"
      ],
      "execution_count": null,
      "outputs": [
        {
          "output_type": "execute_result",
          "data": {
            "text/plain": [
              "[<matplotlib.lines.Line2D at 0x115704b70>]"
            ]
          },
          "metadata": {
            "tags": []
          },
          "execution_count": 139
        },
        {
          "output_type": "display_data",
          "data": {
            "image/png": "[encoded data removed]",
            "text/plain": [
              "<matplotlib.figure.Figure at 0x116f5d860>"
            ]
          },
          "metadata": {
            "tags": []
          }
        }
      ]
    },
    {
      "cell_type": "code",
      "metadata": {
        "id": "LPfW-UcezNBq"
      },
      "source": [
        "Z = np.zeros((Nescalas))\n",
        "Pst = np.zeros((Nescalas,breaks))"
      ],
      "execution_count": null,
      "outputs": []
    },
    {
      "cell_type": "code",
      "metadata": {
        "id": "kujENpk5zNBr",
        "outputId": "2d1127ae-5d00-4b18-9f1d-e6b2b8d0b4c0"
      },
      "source": [
        "PHI"
      ],
      "execution_count": null,
      "outputs": [
        {
          "output_type": "execute_result",
          "data": {
            "text/plain": [
              "array([[ 0.00000000e+00,  0.00000000e+00,  0.00000000e+00,\n",
              "         0.00000000e+00,  0.00000000e+00,  0.00000000e+00,\n",
              "         0.00000000e+00,  0.00000000e+00,  0.00000000e+00,\n",
              "         0.00000000e+00,  0.00000000e+00,  0.00000000e+00,\n",
              "         0.00000000e+00,  0.00000000e+00,  0.00000000e+00,\n",
              "         0.00000000e+00,  0.00000000e+00,  0.00000000e+00,\n",
              "         0.00000000e+00,  0.00000000e+00,  0.00000000e+00,\n",
              "         0.00000000e+00,  0.00000000e+00,  0.00000000e+00,\n",
              "         0.00000000e+00,  0.00000000e+00,  0.00000000e+00,\n",
              "         0.00000000e+00,  0.00000000e+00,  0.00000000e+00],\n",
              "       [ 0.00000000e+00,  0.00000000e+00,  0.00000000e+00,\n",
              "         0.00000000e+00,  0.00000000e+00,  0.00000000e+00,\n",
              "         0.00000000e+00,  0.00000000e+00,  0.00000000e+00,\n",
              "         0.00000000e+00,  0.00000000e+00,  0.00000000e+00,\n",
              "         0.00000000e+00,  0.00000000e+00,  0.00000000e+00,\n",
              "         0.00000000e+00,  0.00000000e+00,  0.00000000e+00,\n",
              "         0.00000000e+00,  0.00000000e+00,  0.00000000e+00,\n",
              "         0.00000000e+00,  0.00000000e+00,  0.00000000e+00,\n",
              "         0.00000000e+00,  0.00000000e+00,  0.00000000e+00,\n",
              "         0.00000000e+00,  0.00000000e+00,  0.00000000e+00],\n",
              "       [-4.17558752e+01, -4.53187445e+01, -4.87301368e+01,\n",
              "        -5.20997020e+01, -5.54838862e+01, -5.83362538e+01,\n",
              "        -6.09442913e+01, -6.31627776e+01, -6.50358431e+01,\n",
              "        -6.65939008e+01, -6.78201110e+01, -6.87088611e+01,\n",
              "        -6.92941866e+01, -6.95711964e+01, -6.95342234e+01,\n",
              "        -6.91805499e+01, -6.85101554e+01, -6.75304067e+01,\n",
              "        -6.61954854e+01, -6.45485354e+01, -6.25439811e+01,\n",
              "        -6.02372224e+01, -5.76465658e+01, -5.47449811e+01,\n",
              "        -5.17712789e+01, -4.85998476e+01, -4.58333265e+01,\n",
              "        -4.36880913e+01, -4.46083630e+01, -3.94056685e+01],\n",
              "       [-3.14592122e+01, -3.37101562e+01, -3.68043629e+01,\n",
              "        -3.96385386e+01, -4.26631008e+01, -4.54351285e+01,\n",
              "        -4.79693699e+01, -5.02377309e+01, -5.22081622e+01,\n",
              "        -5.38596613e+01, -5.51647718e+01, -5.61879819e+01,\n",
              "        -5.68730633e+01, -5.72609271e+01, -5.73460350e+01,\n",
              "        -5.71108351e+01, -5.65882755e+01, -5.57408983e+01,\n",
              "        -5.45554479e+01, -5.30920553e+01, -5.12734823e+01,\n",
              "        -4.91260476e+01, -4.66593763e+01, -4.38919247e+01,\n",
              "        -4.09768658e+01, -3.74793095e+01, -3.38841728e+01,\n",
              "        -3.29380768e+01, -2.67940039e+01, -2.44905995e+01],\n",
              "       [-6.69627848e+01, -6.96912429e+01, -7.22916949e+01,\n",
              "        -7.52479327e+01, -7.77956380e+01, -8.00512252e+01,\n",
              "        -8.21019912e+01, -8.39230831e+01, -8.54766417e+01,\n",
              "        -8.68000587e+01, -8.78814341e+01, -8.87422039e+01,\n",
              "        -8.93900306e+01, -8.98086488e+01, -8.99916363e+01,\n",
              "        -8.99937260e+01, -8.97334875e+01, -8.92789948e+01,\n",
              "        -8.85909113e+01, -8.76833302e+01, -8.65413132e+01,\n",
              "        -8.51447356e+01, -8.35328440e+01, -8.17148567e+01,\n",
              "        -7.97006310e+01, -7.72857532e+01, -7.48126272e+01,\n",
              "        -7.21984258e+01, -7.00765725e+01, -6.69963847e+01],\n",
              "       [-4.02793040e+01, -4.24637619e+01, -4.43158925e+01,\n",
              "        -4.61956136e+01, -4.79213329e+01, -4.96309637e+01,\n",
              "        -5.12370800e+01, -5.26136093e+01, -5.38600660e+01,\n",
              "        -5.48526605e+01, -5.57212838e+01, -5.63856682e+01,\n",
              "        -5.68832043e+01, -5.71557216e+01, -5.72510232e+01,\n",
              "        -5.71499685e+01, -5.68885723e+01, -5.64170618e+01,\n",
              "        -5.57649094e+01, -5.49157110e+01, -5.39011777e+01,\n",
              "        -5.26812067e+01, -5.12699236e+01, -4.96580614e+01,\n",
              "        -4.78080995e+01, -4.59213377e+01, -4.36121774e+01,\n",
              "        -4.14805047e+01, -3.98731331e+01, -3.55633624e+01],\n",
              "       [-1.71333517e+01, -1.99284091e+01, -2.15675066e+01,\n",
              "        -2.31093157e+01, -2.46637622e+01, -2.61933304e+01,\n",
              "        -2.76731183e+01, -2.89851155e+01, -3.00916398e+01,\n",
              "        -3.10715583e+01, -3.18692747e+01, -3.24987260e+01,\n",
              "        -3.29738069e+01, -3.32712094e+01, -3.33803279e+01,\n",
              "        -3.33353705e+01, -3.31413112e+01, -3.27705650e+01,\n",
              "        -3.22363052e+01, -3.14885426e+01, -3.05798646e+01,\n",
              "        -2.95187617e+01, -2.83108436e+01, -2.69929369e+01,\n",
              "        -2.53000084e+01, -2.36770033e+01, -2.19852800e+01,\n",
              "        -2.05707875e+01, -1.86385132e+01, -1.60994253e+01],\n",
              "       [-1.23255744e+01, -1.59275746e+01, -1.68556159e+01,\n",
              "        -1.82021610e+01, -1.98832967e+01, -2.15962749e+01,\n",
              "        -2.30718809e+01, -2.44692705e+01, -2.56379006e+01,\n",
              "        -2.67050384e+01, -2.75934931e+01, -2.82847460e+01,\n",
              "        -2.87722074e+01, -2.91031053e+01, -2.92214120e+01,\n",
              "        -2.91996944e+01, -2.89518947e+01, -2.85481694e+01,\n",
              "        -2.79618586e+01, -2.71838281e+01, -2.62050924e+01,\n",
              "        -2.50192767e+01, -2.36663182e+01, -2.22221963e+01,\n",
              "        -2.06303877e+01, -1.87631360e+01, -1.70125920e+01,\n",
              "        -1.51322643e+01, -1.56298914e+01, -1.19907386e+01],\n",
              "       [ 0.00000000e+00, -6.72556642e+01, -7.01047425e+01,\n",
              "        -7.21964208e+01, -7.47212527e+01, -7.68430875e+01,\n",
              "        -7.84279574e+01, -8.02165135e+01, -8.16533343e+01,\n",
              "        -8.28871445e+01, -8.39624356e+01, -8.48405721e+01,\n",
              "        -8.55428355e+01, -8.60570909e+01, -8.63773385e+01,\n",
              "        -8.65105897e+01, -8.64406397e+01, -8.61602627e+01,\n",
              "        -8.57173073e+01, -8.50540596e+01, -8.42120278e+01,\n",
              "        -8.31514900e+01, -8.19540017e+01, -8.05502604e+01,\n",
              "        -7.91214842e+01, -7.72691520e+01, -7.60525636e+01,\n",
              "        -7.41400101e+01, -7.22299773e+01, -7.01733603e+01],\n",
              "       [ 0.00000000e+00, -2.21806226e+01, -2.41477488e+01,\n",
              "        -2.64251447e+01, -2.82179921e+01, -3.00741097e+01,\n",
              "        -3.16965945e+01, -3.29929720e+01, -3.42209453e+01,\n",
              "        -3.52618346e+01, -3.61900523e+01, -3.69059016e+01,\n",
              "        -3.74095430e+01, -3.77385712e+01, -3.78979277e+01,\n",
              "        -3.78308975e+01, -3.75864552e+01, -3.71599239e+01,\n",
              "        -3.65434078e+01, -3.57169301e+01, -3.47676893e+01,\n",
              "        -3.35620658e+01, -3.22752790e+01, -3.09073201e+01,\n",
              "        -2.90694915e+01, -2.76139491e+01, -2.57787646e+01,\n",
              "        -2.49153980e+01, -2.25620625e+01, -2.08430611e+01],\n",
              "       [-2.08969888e+01, -2.25523103e+01, -2.34587343e+01,\n",
              "        -2.62602266e+01, -2.72491778e+01, -2.87550121e+01,\n",
              "        -3.01697014e+01, -3.16157136e+01, -3.26685628e+01,\n",
              "        -3.37343876e+01, -3.45799278e+01, -3.53344540e+01,\n",
              "        -3.58737532e+01, -3.62310522e+01, -3.64374873e+01,\n",
              "        -3.64975237e+01, -3.63365067e+01, -3.59986083e+01,\n",
              "        -3.55162657e+01, -3.48675749e+01, -3.40124747e+01,\n",
              "        -3.31029920e+01, -3.19534969e+01, -3.07210770e+01,\n",
              "        -2.92829357e+01, -2.78649035e+01, -2.65884410e+01,\n",
              "        -2.50672347e+01, -2.38327925e+01, -2.21864320e+01],\n",
              "       [ 3.02690992e+01, -2.94077401e+00,  8.75608394e+00,\n",
              "        -9.33257298e-02, -9.92261760e+00, -1.09715105e+01,\n",
              "        -4.42567320e+01, -6.93853905e+00,  3.14470982e+01,\n",
              "         1.73221198e+01,  4.06698120e+01, -1.26847692e+01,\n",
              "         1.63567766e+00, -4.77196168e+01, -2.94815843e+01,\n",
              "        -1.10042012e+01,  1.00724716e+01,  2.45080294e+00,\n",
              "        -2.68443614e+03, -1.61248299e+01, -9.72892225e-01,\n",
              "        -8.06144362e+00,  2.06561135e+01, -2.74268135e+01,\n",
              "        -1.07657561e+01,  4.93654515e+01,  1.10947667e+01,\n",
              "        -3.42771835e+00,  1.84464719e+01, -1.85616909e+01],\n",
              "       [-7.23250671e+00, -9.03383680e+00, -1.03889544e+01,\n",
              "        -1.18894013e+01, -1.27507998e+01, -1.38046679e+01,\n",
              "        -1.47922013e+01, -1.54484857e+01, -1.61702559e+01,\n",
              "        -1.68075422e+01, -1.73096034e+01, -1.76998631e+01,\n",
              "        -1.79209288e+01, -1.81061756e+01, -1.81768941e+01,\n",
              "        -1.81564846e+01, -1.79754052e+01, -1.77511450e+01,\n",
              "        -1.73901019e+01, -1.68947127e+01, -1.63345915e+01,\n",
              "        -1.57376142e+01, -1.49827992e+01, -1.41125610e+01,\n",
              "        -1.30621052e+01, -1.21489628e+01, -1.13071196e+01,\n",
              "        -1.02515546e+01, -8.30033783e+00, -7.21491319e+00],\n",
              "       [-8.88501156e+01,  2.29319724e+01,  9.33134829e+00,\n",
              "         3.17648021e+01,  1.14993948e+01,  1.81187146e+01,\n",
              "        -2.05264859e+01,  1.00056227e+01,  1.00347203e-01,\n",
              "         1.83890599e+01,  2.25278755e+01,  6.86647649e-01,\n",
              "        -2.10619310e+01, -6.21720371e+00, -4.90481467e+02,\n",
              "         1.12797509e+01,  1.98645471e+01,  1.25158137e+01,\n",
              "        -3.48500920e+01,  1.19317734e+01, -4.39832696e+01,\n",
              "         3.08735134e+01,  3.29276378e+00,  2.26442672e+01,\n",
              "         1.52318478e+01,  2.01433398e+01,  1.59726041e+01,\n",
              "         1.38450786e-01,  2.30401283e+01,  2.93549110e+01],\n",
              "       [ 0.00000000e+00,  0.00000000e+00,  0.00000000e+00,\n",
              "         0.00000000e+00,  0.00000000e+00,  0.00000000e+00,\n",
              "         0.00000000e+00,  0.00000000e+00,  0.00000000e+00,\n",
              "         0.00000000e+00,  0.00000000e+00,  0.00000000e+00,\n",
              "         0.00000000e+00,  0.00000000e+00,  0.00000000e+00,\n",
              "         0.00000000e+00,  0.00000000e+00,  0.00000000e+00,\n",
              "         0.00000000e+00,  0.00000000e+00,  0.00000000e+00,\n",
              "         0.00000000e+00,  0.00000000e+00,  0.00000000e+00,\n",
              "         0.00000000e+00,  0.00000000e+00,  0.00000000e+00,\n",
              "         0.00000000e+00,  0.00000000e+00,  0.00000000e+00]])"
            ]
          },
          "metadata": {
            "tags": []
          },
          "execution_count": 114
        }
      ]
    },
    {
      "cell_type": "code",
      "metadata": {
        "id": "Q419Zkf2zNBr",
        "outputId": "42564160-30bf-40be-abec-673448dcd8e3"
      },
      "source": [
        "\n",
        "def CalculaZ(PHI):\n",
        "    for i in range(2, Nescalas): \n",
        "        for j in range(0,breaks):\n",
        "            print(i,j)\n",
        "            Z[i] = Z[i] + exp(-PHI[i][j])*(Entrebin[i][2]-Entrebin[i][1])\n",
        "    return PHI"
      ],
      "execution_count": null,
      "outputs": [
        {
          "output_type": "stream",
          "text": [
            "2 0\n",
            "2 1\n",
            "2 2\n",
            "2 3\n",
            "2 4\n",
            "2 5\n",
            "2 6\n",
            "2 7\n",
            "2 8\n",
            "2 9\n",
            "2 10\n",
            "2 11\n",
            "2 12\n",
            "2 13\n",
            "2 14\n",
            "2 15\n",
            "2 16\n",
            "2 17\n",
            "2 18\n",
            "2 19\n",
            "2 20\n",
            "2 21\n",
            "2 22\n",
            "2 23\n",
            "2 24\n",
            "2 25\n",
            "2 26\n",
            "2 27\n",
            "2 28\n",
            "2 29\n",
            "3 0\n",
            "3 1\n",
            "3 2\n",
            "3 3\n",
            "3 4\n",
            "3 5\n",
            "3 6\n",
            "3 7\n",
            "3 8\n",
            "3 9\n",
            "3 10\n",
            "3 11\n",
            "3 12\n",
            "3 13\n",
            "3 14\n",
            "3 15\n",
            "3 16\n",
            "3 17\n",
            "3 18\n",
            "3 19\n",
            "3 20\n",
            "3 21\n",
            "3 22\n",
            "3 23\n",
            "3 24\n",
            "3 25\n",
            "3 26\n",
            "3 27\n",
            "3 28\n",
            "3 29\n",
            "4 0\n",
            "4 1\n",
            "4 2\n",
            "4 3\n",
            "4 4\n",
            "4 5\n",
            "4 6\n",
            "4 7\n",
            "4 8\n",
            "4 9\n",
            "4 10\n",
            "4 11\n",
            "4 12\n",
            "4 13\n",
            "4 14\n",
            "4 15\n",
            "4 16\n",
            "4 17\n",
            "4 18\n",
            "4 19\n",
            "4 20\n",
            "4 21\n",
            "4 22\n",
            "4 23\n",
            "4 24\n",
            "4 25\n",
            "4 26\n",
            "4 27\n",
            "4 28\n",
            "4 29\n",
            "5 0\n",
            "5 1\n",
            "5 2\n",
            "5 3\n",
            "5 4\n",
            "5 5\n",
            "5 6\n",
            "5 7\n",
            "5 8\n",
            "5 9\n",
            "5 10\n",
            "5 11\n",
            "5 12\n",
            "5 13\n",
            "5 14\n",
            "5 15\n",
            "5 16\n",
            "5 17\n",
            "5 18\n",
            "5 19\n",
            "5 20\n",
            "5 21\n",
            "5 22\n",
            "5 23\n",
            "5 24\n"
          ],
          "name": "stdout"
        },
        {
          "output_type": "error",
          "ename": "OverflowError",
          "evalue": "math range error",
          "traceback": [
            "\u001b[0;31m---------------------------------------------------------------------------\u001b[0m",
            "\u001b[0;31mOverflowError\u001b[0m                             Traceback (most recent call last)",
            "\u001b[0;32m<ipython-input-143-1ce876f2a66e>\u001b[0m in \u001b[0;36m<module>\u001b[0;34m()\u001b[0m\n\u001b[1;32m      3\u001b[0m     \u001b[0;32mfor\u001b[0m \u001b[0mj\u001b[0m \u001b[0;32min\u001b[0m \u001b[0mrange\u001b[0m\u001b[0;34m(\u001b[0m\u001b[0;36m0\u001b[0m\u001b[0;34m,\u001b[0m\u001b[0mbreaks\u001b[0m\u001b[0;34m)\u001b[0m\u001b[0;34m:\u001b[0m\u001b[0;34m\u001b[0m\u001b[0m\n\u001b[1;32m      4\u001b[0m         \u001b[0mprint\u001b[0m\u001b[0;34m(\u001b[0m\u001b[0mi\u001b[0m\u001b[0;34m,\u001b[0m\u001b[0mj\u001b[0m\u001b[0;34m)\u001b[0m\u001b[0;34m\u001b[0m\u001b[0m\n\u001b[0;32m----> 5\u001b[0;31m         \u001b[0mZ\u001b[0m\u001b[0;34m[\u001b[0m\u001b[0mi\u001b[0m\u001b[0;34m]\u001b[0m \u001b[0;34m=\u001b[0m \u001b[0mZ\u001b[0m\u001b[0;34m[\u001b[0m\u001b[0mi\u001b[0m\u001b[0;34m]\u001b[0m \u001b[0;34m+\u001b[0m \u001b[0mexp\u001b[0m\u001b[0;34m(\u001b[0m\u001b[0;34m-\u001b[0m\u001b[0mPHI\u001b[0m\u001b[0;34m[\u001b[0m\u001b[0mi\u001b[0m\u001b[0;34m]\u001b[0m\u001b[0;34m[\u001b[0m\u001b[0mj\u001b[0m\u001b[0;34m]\u001b[0m\u001b[0;34m)\u001b[0m\u001b[0;34m*\u001b[0m\u001b[0;34m(\u001b[0m\u001b[0mEntrebin\u001b[0m\u001b[0;34m[\u001b[0m\u001b[0mi\u001b[0m\u001b[0;34m]\u001b[0m\u001b[0;34m[\u001b[0m\u001b[0;36m2\u001b[0m\u001b[0;34m]\u001b[0m\u001b[0;34m-\u001b[0m\u001b[0mEntrebin\u001b[0m\u001b[0;34m[\u001b[0m\u001b[0mi\u001b[0m\u001b[0;34m]\u001b[0m\u001b[0;34m[\u001b[0m\u001b[0;36m1\u001b[0m\u001b[0;34m]\u001b[0m\u001b[0;34m)\u001b[0m\u001b[0;34m\u001b[0m\u001b[0m\n\u001b[0m\u001b[1;32m      6\u001b[0m \u001b[0;34m\u001b[0m\u001b[0m\n",
            "\u001b[0;31mOverflowError\u001b[0m: math range error"
          ]
        }
      ]
    },
    {
      "cell_type": "code",
      "metadata": {
        "id": "bQOFSTWizNBr",
        "outputId": "46045c54-defe-42c3-9708-5f88be0744fd"
      },
      "source": [
        "\n"
      ],
      "execution_count": null,
      "outputs": [
        {
          "output_type": "execute_result",
          "data": {
            "text/plain": [
              "0.08622432614796284"
            ]
          },
          "metadata": {
            "tags": []
          },
          "execution_count": 126
        }
      ]
    },
    {
      "cell_type": "code",
      "metadata": {
        "id": "kghvsu7ZzNBr",
        "outputId": "d8f473dd-aea9-4bad-97b1-06fba9257e82"
      },
      "source": [
        "def CalculaPst(PHI):\n",
        "    for i in range(0, Nescalas):   \n",
        "        for j in range(0,breaks):\n",
        "            Pst[i][j] = (1/Z[i])*exp(-PHI[i][j])"
      ],
      "execution_count": null,
      "outputs": [
        {
          "output_type": "error",
          "ename": "OverflowError",
          "evalue": "math range error",
          "traceback": [
            "\u001b[0;31m---------------------------------------------------------------------------\u001b[0m",
            "\u001b[0;31mOverflowError\u001b[0m                             Traceback (most recent call last)",
            "\u001b[0;32m<ipython-input-117-4dbc1f3da949>\u001b[0m in \u001b[0;36m<module>\u001b[0;34m()\u001b[0m\n\u001b[1;32m      3\u001b[0m     \u001b[0;32mfor\u001b[0m \u001b[0mj\u001b[0m \u001b[0;32min\u001b[0m \u001b[0mrange\u001b[0m\u001b[0;34m(\u001b[0m\u001b[0;36m0\u001b[0m\u001b[0;34m,\u001b[0m\u001b[0mbreaks\u001b[0m\u001b[0;34m)\u001b[0m\u001b[0;34m:\u001b[0m\u001b[0;34m\u001b[0m\u001b[0m\n\u001b[1;32m      4\u001b[0m \u001b[0;34m\u001b[0m\u001b[0m\n\u001b[0;32m----> 5\u001b[0;31m         \u001b[0mPst\u001b[0m\u001b[0;34m[\u001b[0m\u001b[0mi\u001b[0m\u001b[0;34m]\u001b[0m\u001b[0;34m[\u001b[0m\u001b[0mj\u001b[0m\u001b[0;34m]\u001b[0m \u001b[0;34m=\u001b[0m \u001b[0;34m(\u001b[0m\u001b[0;36m1\u001b[0m\u001b[0;34m/\u001b[0m\u001b[0mZ\u001b[0m\u001b[0;34m[\u001b[0m\u001b[0mi\u001b[0m\u001b[0;34m]\u001b[0m\u001b[0;34m)\u001b[0m\u001b[0;34m*\u001b[0m\u001b[0mexp\u001b[0m\u001b[0;34m(\u001b[0m\u001b[0;34m-\u001b[0m\u001b[0mPHI\u001b[0m\u001b[0;34m[\u001b[0m\u001b[0mi\u001b[0m\u001b[0;34m]\u001b[0m\u001b[0;34m[\u001b[0m\u001b[0mj\u001b[0m\u001b[0;34m]\u001b[0m\u001b[0;34m)\u001b[0m\u001b[0;34m\u001b[0m\u001b[0m\n\u001b[0m",
            "\u001b[0;31mOverflowError\u001b[0m: math range error"
          ]
        }
      ]
    },
    {
      "cell_type": "code",
      "metadata": {
        "id": "d-pwJrApzNBs"
      },
      "source": [
        ""
      ],
      "execution_count": null,
      "outputs": []
    },
    {
      "cell_type": "code",
      "metadata": {
        "id": "gmVWU3OazNBs",
        "outputId": "3fb3f28d-c1ec-4b52-d230-477867eb9864"
      },
      "source": [
        "i=4\n",
        "plt.plot(Pst[i])\n",
        "plt.plot(HistDenseUr[i])\n",
        "plt.show()"
      ],
      "execution_count": null,
      "outputs": [
        {
          "output_type": "display_data",
          "data": {
            "image/png": "[encoded data removed]",
            "text/plain": [
              "<matplotlib.figure.Figure at 0x118809048>"
            ]
          },
          "metadata": {
            "tags": []
          }
        }
      ]
    },
    {
      "cell_type": "code",
      "metadata": {
        "id": "rGJjXI8ezNBs"
      },
      "source": [
        "Dtstrajwat = np.zeros( (len(serie)) ) # as duas formas de calcular\n",
        "Dtstraj = np.zeros( (len(serie)) )\n",
        "Dtsmed = np.zeros( (len(serie)) )\n",
        "Dtstot = np.zeros( (len(serie)) )"
      ],
      "execution_count": null,
      "outputs": []
    },
    {
      "cell_type": "code",
      "metadata": {
        "id": "Rb5EHzXDzNBs",
        "outputId": "f5fb1dd8-57ca-4c07-e6b4-11fe2374d873"
      },
      "source": [
        "def calcula Dtsmed(escalas, Nescalas, Ur, BreaksUr, Entrebin, PolyD1, PolyD2):\n",
        "    for k in range(escalas[1],len(serie)-escalas[Nescalas-1]-escalas[1]):\n",
        "        #print(k)\n",
        "        for j in range(0, breaks-1):\n",
        "             if  BreaksUr[0][j] <= Ur[0][k] < BreaksUr[0][j+1]:\n",
        "                p = j\n",
        "        for j in range(0, breaks-1):\n",
        "             if  BreaksUr[Nescalas-1][j] <= Ur[Nescalas-1][k+escalas[Nescalas-1]-escalas[1]] < BreaksUr[Nescalas-1][j+1]:\n",
        "                q = j\n",
        "        Dtsmed[k] = - log(HistUr[0][p]/HistUr[Nescalas-1][q])\n",
        "        \n",
        "    return Dtsmed\n"
      ],
      "execution_count": null,
      "outputs": [
        {
          "output_type": "error",
          "ename": "IndexError",
          "evalue": "index 999000 is out of bounds for axis 0 with size 999000",
          "traceback": [
            "\u001b[0;31m---------------------------------------------------------------------------\u001b[0m",
            "\u001b[0;31mIndexError\u001b[0m                                Traceback (most recent call last)",
            "\u001b[0;32m<ipython-input-41-0396cfae3051>\u001b[0m in \u001b[0;36m<module>\u001b[0;34m()\u001b[0m\n\u001b[1;32m      5\u001b[0m             \u001b[0mp\u001b[0m \u001b[0;34m=\u001b[0m \u001b[0mj\u001b[0m\u001b[0;34m\u001b[0m\u001b[0m\n\u001b[1;32m      6\u001b[0m     \u001b[0;32mfor\u001b[0m \u001b[0mj\u001b[0m \u001b[0;32min\u001b[0m \u001b[0mrange\u001b[0m\u001b[0;34m(\u001b[0m\u001b[0;36m0\u001b[0m\u001b[0;34m,\u001b[0m \u001b[0mbreaks\u001b[0m\u001b[0;34m-\u001b[0m\u001b[0;36m1\u001b[0m\u001b[0;34m)\u001b[0m\u001b[0;34m:\u001b[0m\u001b[0;34m\u001b[0m\u001b[0m\n\u001b[0;32m----> 7\u001b[0;31m          \u001b[0;32mif\u001b[0m  \u001b[0mBreaksUr\u001b[0m\u001b[0;34m[\u001b[0m\u001b[0mNescalas\u001b[0m\u001b[0;34m-\u001b[0m\u001b[0;36m1\u001b[0m\u001b[0;34m]\u001b[0m\u001b[0;34m[\u001b[0m\u001b[0mj\u001b[0m\u001b[0;34m]\u001b[0m \u001b[0;34m<=\u001b[0m \u001b[0mUr\u001b[0m\u001b[0;34m[\u001b[0m\u001b[0mNescalas\u001b[0m\u001b[0;34m-\u001b[0m\u001b[0;36m1\u001b[0m\u001b[0;34m]\u001b[0m\u001b[0;34m[\u001b[0m\u001b[0mk\u001b[0m\u001b[0;34m+\u001b[0m\u001b[0mescalas\u001b[0m\u001b[0;34m[\u001b[0m\u001b[0mNescalas\u001b[0m\u001b[0;34m-\u001b[0m\u001b[0;36m1\u001b[0m\u001b[0;34m]\u001b[0m\u001b[0;34m-\u001b[0m\u001b[0mescalas\u001b[0m\u001b[0;34m[\u001b[0m\u001b[0;36m1\u001b[0m\u001b[0;34m]\u001b[0m\u001b[0;34m]\u001b[0m \u001b[0;34m<\u001b[0m \u001b[0mBreaksUr\u001b[0m\u001b[0;34m[\u001b[0m\u001b[0mNescalas\u001b[0m\u001b[0;34m-\u001b[0m\u001b[0;36m1\u001b[0m\u001b[0;34m]\u001b[0m\u001b[0;34m[\u001b[0m\u001b[0mj\u001b[0m\u001b[0;34m+\u001b[0m\u001b[0;36m1\u001b[0m\u001b[0;34m]\u001b[0m\u001b[0;34m:\u001b[0m\u001b[0;34m\u001b[0m\u001b[0m\n\u001b[0m\u001b[1;32m      8\u001b[0m             \u001b[0mq\u001b[0m \u001b[0;34m=\u001b[0m \u001b[0mj\u001b[0m\u001b[0;34m\u001b[0m\u001b[0m\n\u001b[1;32m      9\u001b[0m     \u001b[0mDtsmed\u001b[0m\u001b[0;34m[\u001b[0m\u001b[0mk\u001b[0m\u001b[0;34m]\u001b[0m \u001b[0;34m=\u001b[0m \u001b[0;34m-\u001b[0m \u001b[0mlog\u001b[0m\u001b[0;34m(\u001b[0m\u001b[0mHistUr\u001b[0m\u001b[0;34m[\u001b[0m\u001b[0;36m0\u001b[0m\u001b[0;34m]\u001b[0m\u001b[0;34m[\u001b[0m\u001b[0mp\u001b[0m\u001b[0;34m]\u001b[0m\u001b[0;34m/\u001b[0m\u001b[0mHistUr\u001b[0m\u001b[0;34m[\u001b[0m\u001b[0mNescalas\u001b[0m\u001b[0;34m-\u001b[0m\u001b[0;36m1\u001b[0m\u001b[0;34m]\u001b[0m\u001b[0;34m[\u001b[0m\u001b[0mq\u001b[0m\u001b[0;34m]\u001b[0m\u001b[0;34m)\u001b[0m\u001b[0;34m\u001b[0m\u001b[0m\n",
            "\u001b[0;31mIndexError\u001b[0m: index 999000 is out of bounds for axis 0 with size 999000"
          ]
        }
      ]
    },
    {
      "cell_type": "code",
      "metadata": {
        "id": "CRWGPSkozNBt"
      },
      "source": [
        "def calculaDtStraj(escalas, Nescalas, Ur, BreaksUr, Entrebin, PolyD1, PolyD2)\n",
        "    for k in range(escalas[1],len(serie)-30):\n",
        "        for i in range(0,Nescalas-1): \n",
        "            def dud2(x):\n",
        "                return ((4*polyD2[i][0]*x**3+3*polyD2[i][1]*x**2+2*polyD2[i][2]*x**1 +polyD2[i][3]))     \n",
        "            for j in range(0, breaks-1):\n",
        "                if  BreaksUr[i][j] <= Ur[i][k+escalas[i]-escalas[1]] < BreaksUr[i][j+1]:\n",
        "                    p = j \n",
        "            for j in range(0, breaks-1):\n",
        "                if  BreaksUr[i+1][j] <= Ur[i+1][k+escalas[i+1]-escalas[1]] < BreaksUr[i+1][j+1]:\n",
        "                    q = j \n",
        "            print (p,q,i)\n",
        "        Dtstraj[k] = Dtstraj[k]+ ( Entrebin[i+1][q]-Entrebin[i][p])*((D1[i][p] - dud2(Entrebin[i][p]))/(D2[i][p])) \n"
      ],
      "execution_count": null,
      "outputs": []
    },
    {
      "cell_type": "code",
      "metadata": {
        "id": "BVWY-_HWzNBt",
        "outputId": "b0564d11-f8e5-469f-8a5d-172e05a8040f"
      },
      "source": [
        "#Ur[3][13]#- Ur[4][12]\n",
        "#Ur"
      ],
      "execution_count": null,
      "outputs": [
        {
          "output_type": "execute_result",
          "data": {
            "text/plain": [
              "nan"
            ]
          },
          "metadata": {
            "tags": []
          },
          "execution_count": 325
        }
      ]
    },
    {
      "cell_type": "code",
      "metadata": {
        "id": "ISWgd8QIzNBt",
        "outputId": "000e67e9-ee5e-4471-9827-e4d8d1489463"
      },
      "source": [
        "print(np.mean(Dtsmed))\n",
        "plt.plot(Dtsmed)"
      ],
      "execution_count": null,
      "outputs": [
        {
          "output_type": "stream",
          "text": [
            "-0.1409919977350268\n"
          ],
          "name": "stdout"
        },
        {
          "output_type": "execute_result",
          "data": {
            "text/plain": [
              "[<matplotlib.lines.Line2D at 0x151e844a20>]"
            ]
          },
          "metadata": {
            "tags": []
          },
          "execution_count": 418
        },
        {
          "output_type": "display_data",
          "data": {
            "image/png": "[encoded data removed]",
            "text/plain": [
              "<matplotlib.figure.Figure at 0x151e4c7e10>"
            ]
          },
          "metadata": {
            "tags": []
          }
        }
      ]
    },
    {
      "cell_type": "code",
      "metadata": {
        "id": "-7BPhq_rzNBt",
        "outputId": "b75ecbc9-7182-4469-db1a-25535b768a25"
      },
      "source": [
        "print(np.mean(Dtstraj[~np.isnan(Dtstraj)]))\n",
        "plt.plot(Dtstraj)"
      ],
      "execution_count": null,
      "outputs": [
        {
          "output_type": "stream",
          "text": [
            "0.20105258395278727\n"
          ],
          "name": "stdout"
        },
        {
          "output_type": "execute_result",
          "data": {
            "text/plain": [
              "[<matplotlib.lines.Line2D at 0x151e7ff390>]"
            ]
          },
          "metadata": {
            "tags": []
          },
          "execution_count": 420
        },
        {
          "output_type": "display_data",
          "data": {
            "image/png": "[encoded data removed]",
            "text/plain": [
              "<matplotlib.figure.Figure at 0x151e8be278>"
            ]
          },
          "metadata": {
            "tags": []
          }
        }
      ]
    },
    {
      "cell_type": "code",
      "metadata": {
        "id": "TPxFKFaOzNBu"
      },
      "source": [
        "Dtstot=Dtstraj+Dtsmed"
      ],
      "execution_count": null,
      "outputs": []
    },
    {
      "cell_type": "code",
      "metadata": {
        "id": "U4BF5j8TzNBu",
        "outputId": "9b17486f-6571-452d-8f60-d0447f20a3f5"
      },
      "source": [
        "print(np.mean(Dtstot[~np.isnan(Dtstot)]))\n",
        "plt.plot(Dtstot)"
      ],
      "execution_count": null,
      "outputs": [
        {
          "output_type": "stream",
          "text": [
            "0.05238572481033089\n"
          ],
          "name": "stdout"
        },
        {
          "output_type": "execute_result",
          "data": {
            "text/plain": [
              "[<matplotlib.lines.Line2D at 0x151e5daf28>]"
            ]
          },
          "metadata": {
            "tags": []
          },
          "execution_count": 422
        },
        {
          "output_type": "display_data",
          "data": {
            "image/png": "[encoded data removed]",
            "text/plain": [
              "<matplotlib.figure.Figure at 0x10d6b4cf8>"
            ]
          },
          "metadata": {
            "tags": []
          }
        }
      ]
    },
    {
      "cell_type": "code",
      "metadata": {
        "id": "-_vDIvE5zNBu"
      },
      "source": [
        ""
      ],
      "execution_count": null,
      "outputs": []
    },
    {
      "cell_type": "code",
      "metadata": {
        "id": "AehrL1DozNBu"
      },
      "source": [
        "### AQUI CHECA O IFT\n",
        "\n",
        "eStot = np.zeros(len(Dtstot))\n",
        "for i in range(0,len(Dtstot)):\n",
        "    eStot[i] = exp(-Dtstot[i])"
      ],
      "execution_count": null,
      "outputs": []
    },
    {
      "cell_type": "code",
      "metadata": {
        "id": "4prwuRIozNBu",
        "outputId": "3b91c94c-1dc4-4832-ac2a-0b283bd4456c"
      },
      "source": [
        "eStot"
      ],
      "execution_count": null,
      "outputs": [
        {
          "output_type": "execute_result",
          "data": {
            "text/plain": [
              "array([1., 1., 1., ..., 1., 1., 1.])"
            ]
          },
          "metadata": {
            "tags": []
          },
          "execution_count": 428
        }
      ]
    },
    {
      "cell_type": "code",
      "metadata": {
        "id": "WUlhuAfGzNBv",
        "outputId": "1cdb75b1-8d8d-4c94-c535-e43314bd0370"
      },
      "source": [
        "print(np.mean(eStot[~np.isnan(eStot)]))\n",
        "plt.plot(eStot)"
      ],
      "execution_count": null,
      "outputs": [
        {
          "output_type": "stream",
          "text": [
            "583781.9923114015\n"
          ],
          "name": "stdout"
        },
        {
          "output_type": "execute_result",
          "data": {
            "text/plain": [
              "[<matplotlib.lines.Line2D at 0x151c3eb080>]"
            ]
          },
          "metadata": {
            "tags": []
          },
          "execution_count": 427
        },
        {
          "output_type": "display_data",
          "data": {
            "image/png": "[encoded data removed]",
            "text/plain": [
              "<matplotlib.figure.Figure at 0x151f958c88>"
            ]
          },
          "metadata": {
            "tags": []
          }
        }
      ]
    },
    {
      "cell_type": "code",
      "metadata": {
        "id": "FajMpLilzNBv"
      },
      "source": [
        "for j in range(0, breaks-1):\n",
        "         if  BreaksUr[1][j] <= Ur[1][k] < BreaksUr[1][j]:\n",
        "            p = j"
      ],
      "execution_count": null,
      "outputs": []
    },
    {
      "cell_type": "code",
      "metadata": {
        "id": "5ZtkdtqXzNBv"
      },
      "source": [
        "#STRUTURA\n",
        "\n",
        "\n",
        "#S=np.zeros((escalas, ordens)) \n",
        "#for i in range(1,escalas):\n",
        "#    S[i][1]=np.average(Ur[str(i)].dropna())\n",
        "#    for j in range(2,ordens):\n",
        "#        S[i][j]=nmoment(  Ur[str(i)] ,np.average(Ur[str(i)].dropna()),j)"
      ],
      "execution_count": null,
      "outputs": []
    },
    {
      "cell_type": "code",
      "metadata": {
        "id": "Twn9VCA3zNBw",
        "outputId": "f5d2ff25-4acf-484c-9831-52c7f919da55"
      },
      "source": [
        "np.mean(Dtstraj[~np.isnan(Dtstraj)])"
      ],
      "execution_count": null,
      "outputs": [
        {
          "output_type": "execute_result",
          "data": {
            "text/plain": [
              "0.20105258395278727"
            ]
          },
          "metadata": {
            "tags": []
          },
          "execution_count": 417
        }
      ]
    },
    {
      "cell_type": "code",
      "metadata": {
        "id": "SGlf4RyDzNBw"
      },
      "source": [
        "##x=np.random.normal(0,1,10)\n",
        "##Y=np.random.normal(0,1,10)"
      ],
      "execution_count": null,
      "outputs": []
    },
    {
      "cell_type": "code",
      "metadata": {
        "id": "mjdbF76FzNBw",
        "outputId": "65db284c-c219-4951-b8b6-d269b3ac57a6"
      },
      "source": [
        "HistUr"
      ],
      "execution_count": null,
      "outputs": [
        {
          "output_type": "execute_result",
          "data": {
            "text/plain": [
              "array([[ 13.,  30.,  73., 128., 150., 229., 194.,  91.,  47.,  34.],\n",
              "       [  7.,  21.,  56., 129., 165., 250., 191.,  92.,  56.,  17.],\n",
              "       [ 26.,  34.,  97., 144., 185., 223., 152.,  73.,  35.,  10.]])"
            ]
          },
          "metadata": {
            "tags": []
          },
          "execution_count": 99
        }
      ]
    },
    {
      "cell_type": "code",
      "metadata": {
        "id": "jTQQKxWUzNBw",
        "outputId": "e94aa198-43e3-48a8-fff7-8645822fa6ac"
      },
      "source": [
        "np.savetxt(\"HistUr.csv\", HistUr, delimiter=\",\")\n",
        "np.savetxt(\"Entrebin.csv\", Entrebin, delimiter=\",\")\n",
        "np.savetxt(\"D1.csv\", D1, delimiter=\",\")\n",
        "np.savetxt(\"D2.csv\", D2, delimiter=\",\")\n",
        "np.savetxt(\"Dtstraj.csv\", Dtstraj, delimiter=\",\")\n",
        "np.savetxt(\"Dtsmed.csv\", Dtsmed, delimiter=\",\")\n",
        "np.savetxt(\"Dtstraj.csv\", Dtstraj, delimiter=\",\")\n",
        "np.savetxt(\"Dtsmed.csv\", Dtsmed, delimiter=\",\")"
      ],
      "execution_count": null,
      "outputs": [
        {
          "output_type": "error",
          "ename": "NameError",
          "evalue": "name 'np' is not defined",
          "traceback": [
            "\u001b[0;31m---------------------------------------------------------------------------\u001b[0m",
            "\u001b[0;31mNameError\u001b[0m                                 Traceback (most recent call last)",
            "\u001b[0;32m<ipython-input-1-0c34f2462d8b>\u001b[0m in \u001b[0;36m<module>\u001b[0;34m\u001b[0m\n\u001b[0;32m----> 1\u001b[0;31m \u001b[0mnp\u001b[0m\u001b[0;34m.\u001b[0m\u001b[0msavetxt\u001b[0m\u001b[0;34m(\u001b[0m\u001b[0;34m\"HistUr.csv\"\u001b[0m\u001b[0;34m,\u001b[0m \u001b[0mHistUr\u001b[0m\u001b[0;34m,\u001b[0m \u001b[0mdelimiter\u001b[0m\u001b[0;34m=\u001b[0m\u001b[0;34m\",\"\u001b[0m\u001b[0;34m)\u001b[0m\u001b[0;34m\u001b[0m\u001b[0;34m\u001b[0m\u001b[0m\n\u001b[0m\u001b[1;32m      2\u001b[0m \u001b[0mnp\u001b[0m\u001b[0;34m.\u001b[0m\u001b[0msavetxt\u001b[0m\u001b[0;34m(\u001b[0m\u001b[0;34m\"Entrebin.csv\"\u001b[0m\u001b[0;34m,\u001b[0m \u001b[0mEntrebin\u001b[0m\u001b[0;34m,\u001b[0m \u001b[0mdelimiter\u001b[0m\u001b[0;34m=\u001b[0m\u001b[0;34m\",\"\u001b[0m\u001b[0;34m)\u001b[0m\u001b[0;34m\u001b[0m\u001b[0;34m\u001b[0m\u001b[0m\n\u001b[1;32m      3\u001b[0m \u001b[0mnp\u001b[0m\u001b[0;34m.\u001b[0m\u001b[0msavetxt\u001b[0m\u001b[0;34m(\u001b[0m\u001b[0;34m\"D1.csv\"\u001b[0m\u001b[0;34m,\u001b[0m \u001b[0mD1\u001b[0m\u001b[0;34m,\u001b[0m \u001b[0mdelimiter\u001b[0m\u001b[0;34m=\u001b[0m\u001b[0;34m\",\"\u001b[0m\u001b[0;34m)\u001b[0m\u001b[0;34m\u001b[0m\u001b[0;34m\u001b[0m\u001b[0m\n\u001b[1;32m      4\u001b[0m \u001b[0mnp\u001b[0m\u001b[0;34m.\u001b[0m\u001b[0msavetxt\u001b[0m\u001b[0;34m(\u001b[0m\u001b[0;34m\"D2.csv\"\u001b[0m\u001b[0;34m,\u001b[0m \u001b[0mD2\u001b[0m\u001b[0;34m,\u001b[0m \u001b[0mdelimiter\u001b[0m\u001b[0;34m=\u001b[0m\u001b[0;34m\",\"\u001b[0m\u001b[0;34m)\u001b[0m\u001b[0;34m\u001b[0m\u001b[0;34m\u001b[0m\u001b[0m\n\u001b[1;32m      5\u001b[0m \u001b[0mnp\u001b[0m\u001b[0;34m.\u001b[0m\u001b[0msavetxt\u001b[0m\u001b[0;34m(\u001b[0m\u001b[0;34m\"Dtstraj.csv\"\u001b[0m\u001b[0;34m,\u001b[0m \u001b[0mDtstraj\u001b[0m\u001b[0;34m,\u001b[0m \u001b[0mdelimiter\u001b[0m\u001b[0;34m=\u001b[0m\u001b[0;34m\",\"\u001b[0m\u001b[0;34m)\u001b[0m\u001b[0;34m\u001b[0m\u001b[0;34m\u001b[0m\u001b[0m\n",
            "\u001b[0;31mNameError\u001b[0m: name 'np' is not defined"
          ]
        }
      ]
    },
    {
      "cell_type": "code",
      "metadata": {
        "id": "ZsIvT-xrzNBx"
      },
      "source": [
        ""
      ],
      "execution_count": null,
      "outputs": []
    },
    {
      "cell_type": "code",
      "metadata": {
        "id": "2bsZSC8FzNBx"
      },
      "source": [
        ""
      ],
      "execution_count": null,
      "outputs": []
    }
  ]
}